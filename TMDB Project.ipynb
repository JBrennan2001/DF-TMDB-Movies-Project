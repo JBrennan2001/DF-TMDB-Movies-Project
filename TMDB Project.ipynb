{
 "cells": [
  {
   "cell_type": "markdown",
   "id": "f7f5b303-bd92-49eb-8837-5d5ef3915a77",
   "metadata": {},
   "source": [
    "<p style=\"text-align:center;\">\n",
    "<img src=\"https://github.com/digital-futures-academy/DataScienceMasterResources/blob/main/Resources/datascience-notebook-header.png?raw=true\"\n",
    "     alt=\"DigitalFuturesLogo\"\n",
    "     style=\"float: center; margin-right: 10px;\" />\n",
    "</p>"
   ]
  },
  {
   "cell_type": "markdown",
   "id": "b8608550-9122-4b6d-b010-a900714c95b2",
   "metadata": {},
   "source": [
    "# Movies Database Exploration\n",
    "\n",
    "> In this notebook I will explore the data from the movies dataframe that I have been provided with.\n",
    "> I will start by importing the data and cleaning it.\n",
    "> From there I will explore the data and try to extract insights from it.\n",
    "> I will create graphs to show anything that I find interesting.\n",
    "> Throughout the notebook I will add annotations to my code to make it more readable and I will write down insights I find from the data.\n",
    "> We can discuss these any of these insights during or after my notebook presentation."
   ]
  },
  {
   "cell_type": "markdown",
   "id": "46c05363-95c5-4e4c-8785-b5118dc709b1",
   "metadata": {
    "jp-MarkdownHeadingCollapsed": true
   },
   "source": [
    "## Importing libraries and data\n",
    "<u>Initial Information:</u>\n",
    "* 20 Columns,\n",
    "* 4803 Rows,\n",
    "* There are null values in the data."
   ]
  },
  {
   "cell_type": "code",
   "execution_count": 4,
   "id": "f00f032c-216f-4b52-a5af-8133ae3e6fa9",
   "metadata": {},
   "outputs": [],
   "source": [
    "# Import the libraries.\n",
    "import pandas as pd\n",
    "import numpy as np\n",
    "import seaborn as sns\n",
    "import matplotlib.pyplot as plt"
   ]
  },
  {
   "cell_type": "code",
   "execution_count": 6,
   "id": "640c8786-ff1c-4fa4-9007-b24f2b8ee6f4",
   "metadata": {},
   "outputs": [],
   "source": [
    "# Read the data file.\n",
    "df = pd.read_csv('TMDB_movies.csv')"
   ]
  },
  {
   "cell_type": "code",
   "execution_count": 8,
   "id": "5d2b74c9-92e0-4ddd-a278-e950334d3bc9",
   "metadata": {},
   "outputs": [
    {
     "name": "stdout",
     "output_type": "stream",
     "text": [
      "<class 'pandas.core.frame.DataFrame'>\n",
      "RangeIndex: 4803 entries, 0 to 4802\n",
      "Data columns (total 20 columns):\n",
      " #   Column                Non-Null Count  Dtype  \n",
      "---  ------                --------------  -----  \n",
      " 0   budget                4803 non-null   int64  \n",
      " 1   genres                4803 non-null   object \n",
      " 2   homepage              1712 non-null   object \n",
      " 3   id                    4803 non-null   int64  \n",
      " 4   keywords              4803 non-null   object \n",
      " 5   original_language     4803 non-null   object \n",
      " 6   original_title        4803 non-null   object \n",
      " 7   overview              4800 non-null   object \n",
      " 8   popularity            4803 non-null   float64\n",
      " 9   production_companies  4803 non-null   object \n",
      " 10  production_countries  4803 non-null   object \n",
      " 11  release_date          4802 non-null   object \n",
      " 12  revenue               4803 non-null   int64  \n",
      " 13  runtime               4801 non-null   float64\n",
      " 14  spoken_languages      4803 non-null   object \n",
      " 15  status                4803 non-null   object \n",
      " 16  tagline               3959 non-null   object \n",
      " 17  title                 4803 non-null   object \n",
      " 18  vote_average          4803 non-null   float64\n",
      " 19  vote_count            4803 non-null   int64  \n",
      "dtypes: float64(3), int64(4), object(13)\n",
      "memory usage: 750.6+ KB\n"
     ]
    }
   ],
   "source": [
    "# Get the column info.\n",
    "df.info()\n",
    "\n",
    "# 20 Columns (Ordered alphabetically).\n",
    "# 4803 rows.\n",
    "# Some columns contain null entries."
   ]
  },
  {
   "cell_type": "markdown",
   "id": "fa41bd3d-d68b-48f9-b1f8-e5cc3f853357",
   "metadata": {},
   "source": [
    "## Dealing with nulls\n",
    "<u>Columns containing nulls:</u>\n",
    "\n",
    "* homepage: 3091,\n",
    "* overview: 3,\n",
    "* release_date: 1,\n",
    "* runtime: 2,\n",
    "* tagline: 844."
   ]
  },
  {
   "cell_type": "code",
   "execution_count": 10,
   "id": "9db14c8e-ca0b-4ddc-a80a-29318c9eb498",
   "metadata": {
    "collapsed": true,
    "jupyter": {
     "outputs_hidden": true,
     "source_hidden": true
    }
   },
   "outputs": [
    {
     "data": {
      "text/plain": [
       "budget                     0\n",
       "genres                     0\n",
       "homepage                3091\n",
       "id                         0\n",
       "keywords                   0\n",
       "original_language          0\n",
       "original_title             0\n",
       "overview                   3\n",
       "popularity                 0\n",
       "production_companies       0\n",
       "production_countries       0\n",
       "release_date               1\n",
       "revenue                    0\n",
       "runtime                    2\n",
       "spoken_languages           0\n",
       "status                     0\n",
       "tagline                  844\n",
       "title                      0\n",
       "vote_average               0\n",
       "vote_count                 0\n",
       "dtype: int64"
      ]
     },
     "execution_count": 10,
     "metadata": {},
     "output_type": "execute_result"
    }
   ],
   "source": [
    "# Count the nulls in each column.\n",
    "df.isnull().sum()\n",
    "\n",
    "# homepage: 3091 nulls.\n",
    "# overview: 3 nulls.\n",
    "# release_date: 1 null.\n",
    "# runtime: 2 nulls.\n",
    "# tagline: 844 nulls."
   ]
  },
  {
   "cell_type": "code",
   "execution_count": 12,
   "id": "80dcf43f-ecd1-462e-9ed5-3880c4e811be",
   "metadata": {
    "jupyter": {
     "source_hidden": true
    }
   },
   "outputs": [],
   "source": [
    "# Make a copy of the original dataframe.\n",
    "df_original = df.copy()"
   ]
  },
  {
   "cell_type": "markdown",
   "id": "5ce6378d-4f3a-4a40-a448-c0ad0caa364b",
   "metadata": {
    "jp-MarkdownHeadingCollapsed": true
   },
   "source": [
    "##### Homepage column\n",
    "* Replaced all null values with 'No homepage'."
   ]
  },
  {
   "cell_type": "code",
   "execution_count": 14,
   "id": "3622e927-7c7c-4c3c-bc20-b28b4071a2b2",
   "metadata": {},
   "outputs": [
    {
     "data": {
      "text/html": [
       "<div>\n",
       "<style scoped>\n",
       "    .dataframe tbody tr th:only-of-type {\n",
       "        vertical-align: middle;\n",
       "    }\n",
       "\n",
       "    .dataframe tbody tr th {\n",
       "        vertical-align: top;\n",
       "    }\n",
       "\n",
       "    .dataframe thead th {\n",
       "        text-align: right;\n",
       "    }\n",
       "</style>\n",
       "<table border=\"1\" class=\"dataframe\">\n",
       "  <thead>\n",
       "    <tr style=\"text-align: right;\">\n",
       "      <th></th>\n",
       "      <th>budget</th>\n",
       "      <th>genres</th>\n",
       "      <th>homepage</th>\n",
       "      <th>id</th>\n",
       "      <th>keywords</th>\n",
       "      <th>original_language</th>\n",
       "      <th>original_title</th>\n",
       "      <th>overview</th>\n",
       "      <th>popularity</th>\n",
       "      <th>production_companies</th>\n",
       "      <th>production_countries</th>\n",
       "      <th>release_date</th>\n",
       "      <th>revenue</th>\n",
       "      <th>runtime</th>\n",
       "      <th>spoken_languages</th>\n",
       "      <th>status</th>\n",
       "      <th>tagline</th>\n",
       "      <th>title</th>\n",
       "      <th>vote_average</th>\n",
       "      <th>vote_count</th>\n",
       "    </tr>\n",
       "  </thead>\n",
       "  <tbody>\n",
       "    <tr>\n",
       "      <th>15</th>\n",
       "      <td>225000000</td>\n",
       "      <td>[{\"id\": 12, \"name\": \"Adventure\"}, {\"id\": 10751...</td>\n",
       "      <td>NaN</td>\n",
       "      <td>2454</td>\n",
       "      <td>[{\"id\": 818, \"name\": \"based on novel\"}, {\"id\":...</td>\n",
       "      <td>en</td>\n",
       "      <td>The Chronicles of Narnia: Prince Caspian</td>\n",
       "      <td>One year after their incredible adventures in ...</td>\n",
       "      <td>53.978602</td>\n",
       "      <td>[{\"name\": \"Walt Disney\", \"id\": 5888}, {\"name\":...</td>\n",
       "      <td>[{\"iso_3166_1\": \"CZ\", \"name\": \"Czech Republic\"...</td>\n",
       "      <td>2008-05-15</td>\n",
       "      <td>419651413</td>\n",
       "      <td>150.0</td>\n",
       "      <td>[{\"iso_639_1\": \"en\", \"name\": \"English\"}]</td>\n",
       "      <td>Released</td>\n",
       "      <td>Hope has a new face.</td>\n",
       "      <td>The Chronicles of Narnia: Prince Caspian</td>\n",
       "      <td>6.3</td>\n",
       "      <td>1630</td>\n",
       "    </tr>\n",
       "    <tr>\n",
       "      <th>24</th>\n",
       "      <td>207000000</td>\n",
       "      <td>[{\"id\": 12, \"name\": \"Adventure\"}, {\"id\": 18, \"...</td>\n",
       "      <td>NaN</td>\n",
       "      <td>254</td>\n",
       "      <td>[{\"id\": 774, \"name\": \"film business\"}, {\"id\": ...</td>\n",
       "      <td>en</td>\n",
       "      <td>King Kong</td>\n",
       "      <td>In 1933 New York, an overly ambitious movie pr...</td>\n",
       "      <td>61.226010</td>\n",
       "      <td>[{\"name\": \"WingNut Films\", \"id\": 11}, {\"name\":...</td>\n",
       "      <td>[{\"iso_3166_1\": \"NZ\", \"name\": \"New Zealand\"}, ...</td>\n",
       "      <td>2005-12-14</td>\n",
       "      <td>550000000</td>\n",
       "      <td>187.0</td>\n",
       "      <td>[{\"iso_639_1\": \"en\", \"name\": \"English\"}]</td>\n",
       "      <td>Released</td>\n",
       "      <td>The eighth wonder of the world.</td>\n",
       "      <td>King Kong</td>\n",
       "      <td>6.6</td>\n",
       "      <td>2337</td>\n",
       "    </tr>\n",
       "    <tr>\n",
       "      <th>27</th>\n",
       "      <td>209000000</td>\n",
       "      <td>[{\"id\": 53, \"name\": \"Thriller\"}, {\"id\": 28, \"n...</td>\n",
       "      <td>NaN</td>\n",
       "      <td>44833</td>\n",
       "      <td>[{\"id\": 1721, \"name\": \"fight\"}, {\"id\": 4410, \"...</td>\n",
       "      <td>en</td>\n",
       "      <td>Battleship</td>\n",
       "      <td>When mankind beams a radio signal into space, ...</td>\n",
       "      <td>64.928382</td>\n",
       "      <td>[{\"name\": \"Universal Pictures\", \"id\": 33}, {\"n...</td>\n",
       "      <td>[{\"iso_3166_1\": \"US\", \"name\": \"United States o...</td>\n",
       "      <td>2012-04-11</td>\n",
       "      <td>303025485</td>\n",
       "      <td>131.0</td>\n",
       "      <td>[{\"iso_639_1\": \"en\", \"name\": \"English\"}, {\"iso...</td>\n",
       "      <td>Released</td>\n",
       "      <td>The Battle for Earth Begins at Sea</td>\n",
       "      <td>Battleship</td>\n",
       "      <td>5.5</td>\n",
       "      <td>2114</td>\n",
       "    </tr>\n",
       "    <tr>\n",
       "      <th>33</th>\n",
       "      <td>210000000</td>\n",
       "      <td>[{\"id\": 12, \"name\": \"Adventure\"}, {\"id\": 28, \"...</td>\n",
       "      <td>NaN</td>\n",
       "      <td>36668</td>\n",
       "      <td>[{\"id\": 1852, \"name\": \"mutant\"}, {\"id\": 8828, ...</td>\n",
       "      <td>en</td>\n",
       "      <td>X-Men: The Last Stand</td>\n",
       "      <td>When a cure is found to treat mutations, lines...</td>\n",
       "      <td>3.857526</td>\n",
       "      <td>[{\"name\": \"Ingenious Film Partners\", \"id\": 289...</td>\n",
       "      <td>[{\"iso_3166_1\": \"CA\", \"name\": \"Canada\"}, {\"iso...</td>\n",
       "      <td>2006-05-24</td>\n",
       "      <td>459359555</td>\n",
       "      <td>104.0</td>\n",
       "      <td>[{\"iso_639_1\": \"en\", \"name\": \"English\"}]</td>\n",
       "      <td>Released</td>\n",
       "      <td>Take a Stand</td>\n",
       "      <td>X-Men: The Last Stand</td>\n",
       "      <td>6.3</td>\n",
       "      <td>3525</td>\n",
       "    </tr>\n",
       "    <tr>\n",
       "      <th>34</th>\n",
       "      <td>200000000</td>\n",
       "      <td>[{\"id\": 16, \"name\": \"Animation\"}, {\"id\": 10751...</td>\n",
       "      <td>NaN</td>\n",
       "      <td>62211</td>\n",
       "      <td>[{\"id\": 1299, \"name\": \"monster\"}, {\"id\": 5984,...</td>\n",
       "      <td>en</td>\n",
       "      <td>Monsters University</td>\n",
       "      <td>A look at the relationship between Mike and Su...</td>\n",
       "      <td>89.186492</td>\n",
       "      <td>[{\"name\": \"Walt Disney Pictures\", \"id\": 2}, {\"...</td>\n",
       "      <td>[{\"iso_3166_1\": \"US\", \"name\": \"United States o...</td>\n",
       "      <td>2013-06-20</td>\n",
       "      <td>743559607</td>\n",
       "      <td>104.0</td>\n",
       "      <td>[{\"iso_639_1\": \"en\", \"name\": \"English\"}]</td>\n",
       "      <td>Released</td>\n",
       "      <td>School never looked this scary.</td>\n",
       "      <td>Monsters University</td>\n",
       "      <td>7.0</td>\n",
       "      <td>3528</td>\n",
       "    </tr>\n",
       "  </tbody>\n",
       "</table>\n",
       "</div>"
      ],
      "text/plain": [
       "       budget                                             genres homepage  \\\n",
       "15  225000000  [{\"id\": 12, \"name\": \"Adventure\"}, {\"id\": 10751...      NaN   \n",
       "24  207000000  [{\"id\": 12, \"name\": \"Adventure\"}, {\"id\": 18, \"...      NaN   \n",
       "27  209000000  [{\"id\": 53, \"name\": \"Thriller\"}, {\"id\": 28, \"n...      NaN   \n",
       "33  210000000  [{\"id\": 12, \"name\": \"Adventure\"}, {\"id\": 28, \"...      NaN   \n",
       "34  200000000  [{\"id\": 16, \"name\": \"Animation\"}, {\"id\": 10751...      NaN   \n",
       "\n",
       "       id                                           keywords  \\\n",
       "15   2454  [{\"id\": 818, \"name\": \"based on novel\"}, {\"id\":...   \n",
       "24    254  [{\"id\": 774, \"name\": \"film business\"}, {\"id\": ...   \n",
       "27  44833  [{\"id\": 1721, \"name\": \"fight\"}, {\"id\": 4410, \"...   \n",
       "33  36668  [{\"id\": 1852, \"name\": \"mutant\"}, {\"id\": 8828, ...   \n",
       "34  62211  [{\"id\": 1299, \"name\": \"monster\"}, {\"id\": 5984,...   \n",
       "\n",
       "   original_language                            original_title  \\\n",
       "15                en  The Chronicles of Narnia: Prince Caspian   \n",
       "24                en                                 King Kong   \n",
       "27                en                                Battleship   \n",
       "33                en                     X-Men: The Last Stand   \n",
       "34                en                       Monsters University   \n",
       "\n",
       "                                             overview  popularity  \\\n",
       "15  One year after their incredible adventures in ...   53.978602   \n",
       "24  In 1933 New York, an overly ambitious movie pr...   61.226010   \n",
       "27  When mankind beams a radio signal into space, ...   64.928382   \n",
       "33  When a cure is found to treat mutations, lines...    3.857526   \n",
       "34  A look at the relationship between Mike and Su...   89.186492   \n",
       "\n",
       "                                 production_companies  \\\n",
       "15  [{\"name\": \"Walt Disney\", \"id\": 5888}, {\"name\":...   \n",
       "24  [{\"name\": \"WingNut Films\", \"id\": 11}, {\"name\":...   \n",
       "27  [{\"name\": \"Universal Pictures\", \"id\": 33}, {\"n...   \n",
       "33  [{\"name\": \"Ingenious Film Partners\", \"id\": 289...   \n",
       "34  [{\"name\": \"Walt Disney Pictures\", \"id\": 2}, {\"...   \n",
       "\n",
       "                                 production_countries release_date    revenue  \\\n",
       "15  [{\"iso_3166_1\": \"CZ\", \"name\": \"Czech Republic\"...   2008-05-15  419651413   \n",
       "24  [{\"iso_3166_1\": \"NZ\", \"name\": \"New Zealand\"}, ...   2005-12-14  550000000   \n",
       "27  [{\"iso_3166_1\": \"US\", \"name\": \"United States o...   2012-04-11  303025485   \n",
       "33  [{\"iso_3166_1\": \"CA\", \"name\": \"Canada\"}, {\"iso...   2006-05-24  459359555   \n",
       "34  [{\"iso_3166_1\": \"US\", \"name\": \"United States o...   2013-06-20  743559607   \n",
       "\n",
       "    runtime                                   spoken_languages    status  \\\n",
       "15    150.0           [{\"iso_639_1\": \"en\", \"name\": \"English\"}]  Released   \n",
       "24    187.0           [{\"iso_639_1\": \"en\", \"name\": \"English\"}]  Released   \n",
       "27    131.0  [{\"iso_639_1\": \"en\", \"name\": \"English\"}, {\"iso...  Released   \n",
       "33    104.0           [{\"iso_639_1\": \"en\", \"name\": \"English\"}]  Released   \n",
       "34    104.0           [{\"iso_639_1\": \"en\", \"name\": \"English\"}]  Released   \n",
       "\n",
       "                               tagline  \\\n",
       "15                Hope has a new face.   \n",
       "24     The eighth wonder of the world.   \n",
       "27  The Battle for Earth Begins at Sea   \n",
       "33                        Take a Stand   \n",
       "34     School never looked this scary.   \n",
       "\n",
       "                                       title  vote_average  vote_count  \n",
       "15  The Chronicles of Narnia: Prince Caspian           6.3        1630  \n",
       "24                                 King Kong           6.6        2337  \n",
       "27                                Battleship           5.5        2114  \n",
       "33                     X-Men: The Last Stand           6.3        3525  \n",
       "34                       Monsters University           7.0        3528  "
      ]
     },
     "execution_count": 14,
     "metadata": {},
     "output_type": "execute_result"
    }
   ],
   "source": [
    "# Can assume homepage nulls mean there isn't a homepage.\n",
    "df[df.homepage.isnull()].head()"
   ]
  },
  {
   "cell_type": "code",
   "execution_count": 16,
   "id": "21b1fea7-729b-4d60-84f4-d3c4e39736c3",
   "metadata": {},
   "outputs": [],
   "source": [
    "# Fill in null values with 'No homepage'.\n",
    "df[['homepage']] = df[['homepage']].fillna(value = 'No homepage',\n",
    "                                            method = None)"
   ]
  },
  {
   "cell_type": "code",
   "execution_count": 18,
   "id": "4f37d2da-2343-4745-b294-dd270e3adcfe",
   "metadata": {},
   "outputs": [
    {
     "data": {
      "text/plain": [
       "(0, 20)"
      ]
     },
     "execution_count": 18,
     "metadata": {},
     "output_type": "execute_result"
    }
   ],
   "source": [
    "# homepage column now contains no nulls.\n",
    "df[df.homepage.isnull()].shape"
   ]
  },
  {
   "cell_type": "markdown",
   "id": "a2d552ea-c16d-4968-9110-55ea801799dc",
   "metadata": {
    "jp-MarkdownHeadingCollapsed": true
   },
   "source": [
    "##### Overview column\n",
    "* Replaced all null values with 'No overview'."
   ]
  },
  {
   "cell_type": "code",
   "execution_count": 20,
   "id": "453d7bb3-5e82-40fe-925f-bc2a762f47df",
   "metadata": {},
   "outputs": [
    {
     "data": {
      "text/html": [
       "<div>\n",
       "<style scoped>\n",
       "    .dataframe tbody tr th:only-of-type {\n",
       "        vertical-align: middle;\n",
       "    }\n",
       "\n",
       "    .dataframe tbody tr th {\n",
       "        vertical-align: top;\n",
       "    }\n",
       "\n",
       "    .dataframe thead th {\n",
       "        text-align: right;\n",
       "    }\n",
       "</style>\n",
       "<table border=\"1\" class=\"dataframe\">\n",
       "  <thead>\n",
       "    <tr style=\"text-align: right;\">\n",
       "      <th></th>\n",
       "      <th>budget</th>\n",
       "      <th>genres</th>\n",
       "      <th>homepage</th>\n",
       "      <th>id</th>\n",
       "      <th>keywords</th>\n",
       "      <th>original_language</th>\n",
       "      <th>original_title</th>\n",
       "      <th>overview</th>\n",
       "      <th>popularity</th>\n",
       "      <th>production_companies</th>\n",
       "      <th>production_countries</th>\n",
       "      <th>release_date</th>\n",
       "      <th>revenue</th>\n",
       "      <th>runtime</th>\n",
       "      <th>spoken_languages</th>\n",
       "      <th>status</th>\n",
       "      <th>tagline</th>\n",
       "      <th>title</th>\n",
       "      <th>vote_average</th>\n",
       "      <th>vote_count</th>\n",
       "    </tr>\n",
       "  </thead>\n",
       "  <tbody>\n",
       "    <tr>\n",
       "      <th>2656</th>\n",
       "      <td>15000000</td>\n",
       "      <td>[{\"id\": 18, \"name\": \"Drama\"}]</td>\n",
       "      <td>No homepage</td>\n",
       "      <td>370980</td>\n",
       "      <td>[{\"id\": 717, \"name\": \"pope\"}, {\"id\": 5565, \"na...</td>\n",
       "      <td>it</td>\n",
       "      <td>Chiamatemi Francesco - Il Papa della gente</td>\n",
       "      <td>NaN</td>\n",
       "      <td>0.738646</td>\n",
       "      <td>[{\"name\": \"Taodue Film\", \"id\": 45724}]</td>\n",
       "      <td>[{\"iso_3166_1\": \"IT\", \"name\": \"Italy\"}]</td>\n",
       "      <td>2015-12-03</td>\n",
       "      <td>0</td>\n",
       "      <td>NaN</td>\n",
       "      <td>[{\"iso_639_1\": \"es\", \"name\": \"Espa\\u00f1ol\"}]</td>\n",
       "      <td>Released</td>\n",
       "      <td>NaN</td>\n",
       "      <td>Chiamatemi Francesco - Il Papa della gente</td>\n",
       "      <td>7.3</td>\n",
       "      <td>12</td>\n",
       "    </tr>\n",
       "    <tr>\n",
       "      <th>4140</th>\n",
       "      <td>2</td>\n",
       "      <td>[{\"id\": 99, \"name\": \"Documentary\"}]</td>\n",
       "      <td>No homepage</td>\n",
       "      <td>459488</td>\n",
       "      <td>[{\"id\": 6027, \"name\": \"music\"}, {\"id\": 225822,...</td>\n",
       "      <td>en</td>\n",
       "      <td>To Be Frank, Sinatra at 100</td>\n",
       "      <td>NaN</td>\n",
       "      <td>0.050625</td>\n",
       "      <td>[{\"name\": \"Eyeline Entertainment\", \"id\": 60343}]</td>\n",
       "      <td>[{\"iso_3166_1\": \"GB\", \"name\": \"United Kingdom\"}]</td>\n",
       "      <td>2015-12-12</td>\n",
       "      <td>0</td>\n",
       "      <td>NaN</td>\n",
       "      <td>[]</td>\n",
       "      <td>Released</td>\n",
       "      <td>NaN</td>\n",
       "      <td>To Be Frank, Sinatra at 100</td>\n",
       "      <td>0.0</td>\n",
       "      <td>0</td>\n",
       "    </tr>\n",
       "    <tr>\n",
       "      <th>4431</th>\n",
       "      <td>913000</td>\n",
       "      <td>[{\"id\": 99, \"name\": \"Documentary\"}]</td>\n",
       "      <td>No homepage</td>\n",
       "      <td>292539</td>\n",
       "      <td>[]</td>\n",
       "      <td>de</td>\n",
       "      <td>Food Chains</td>\n",
       "      <td>NaN</td>\n",
       "      <td>0.795698</td>\n",
       "      <td>[]</td>\n",
       "      <td>[]</td>\n",
       "      <td>2014-04-26</td>\n",
       "      <td>0</td>\n",
       "      <td>83.0</td>\n",
       "      <td>[{\"iso_639_1\": \"en\", \"name\": \"English\"}]</td>\n",
       "      <td>Released</td>\n",
       "      <td>NaN</td>\n",
       "      <td>Food Chains</td>\n",
       "      <td>7.4</td>\n",
       "      <td>8</td>\n",
       "    </tr>\n",
       "  </tbody>\n",
       "</table>\n",
       "</div>"
      ],
      "text/plain": [
       "        budget                               genres     homepage      id  \\\n",
       "2656  15000000        [{\"id\": 18, \"name\": \"Drama\"}]  No homepage  370980   \n",
       "4140         2  [{\"id\": 99, \"name\": \"Documentary\"}]  No homepage  459488   \n",
       "4431    913000  [{\"id\": 99, \"name\": \"Documentary\"}]  No homepage  292539   \n",
       "\n",
       "                                               keywords original_language  \\\n",
       "2656  [{\"id\": 717, \"name\": \"pope\"}, {\"id\": 5565, \"na...                it   \n",
       "4140  [{\"id\": 6027, \"name\": \"music\"}, {\"id\": 225822,...                en   \n",
       "4431                                                 []                de   \n",
       "\n",
       "                                  original_title overview  popularity  \\\n",
       "2656  Chiamatemi Francesco - Il Papa della gente      NaN    0.738646   \n",
       "4140                 To Be Frank, Sinatra at 100      NaN    0.050625   \n",
       "4431                                 Food Chains      NaN    0.795698   \n",
       "\n",
       "                                  production_companies  \\\n",
       "2656            [{\"name\": \"Taodue Film\", \"id\": 45724}]   \n",
       "4140  [{\"name\": \"Eyeline Entertainment\", \"id\": 60343}]   \n",
       "4431                                                []   \n",
       "\n",
       "                                  production_countries release_date  revenue  \\\n",
       "2656           [{\"iso_3166_1\": \"IT\", \"name\": \"Italy\"}]   2015-12-03        0   \n",
       "4140  [{\"iso_3166_1\": \"GB\", \"name\": \"United Kingdom\"}]   2015-12-12        0   \n",
       "4431                                                []   2014-04-26        0   \n",
       "\n",
       "      runtime                               spoken_languages    status  \\\n",
       "2656      NaN  [{\"iso_639_1\": \"es\", \"name\": \"Espa\\u00f1ol\"}]  Released   \n",
       "4140      NaN                                             []  Released   \n",
       "4431     83.0       [{\"iso_639_1\": \"en\", \"name\": \"English\"}]  Released   \n",
       "\n",
       "     tagline                                       title  vote_average  \\\n",
       "2656     NaN  Chiamatemi Francesco - Il Papa della gente           7.3   \n",
       "4140     NaN                 To Be Frank, Sinatra at 100           0.0   \n",
       "4431     NaN                                 Food Chains           7.4   \n",
       "\n",
       "      vote_count  \n",
       "2656          12  \n",
       "4140           0  \n",
       "4431           8  "
      ]
     },
     "execution_count": 20,
     "metadata": {},
     "output_type": "execute_result"
    }
   ],
   "source": [
    "# Can also assume overview nulls mean there isn't an overview.\n",
    "df[df.overview.isnull()]"
   ]
  },
  {
   "cell_type": "code",
   "execution_count": 22,
   "id": "ef4fee97-fa39-4a90-9fd5-f614388c01cd",
   "metadata": {},
   "outputs": [],
   "source": [
    "# Fill in null values with 'No overview'.\n",
    "df[['overview']] = df[['overview']].fillna(value = 'No overview',\n",
    "                                           method = None)"
   ]
  },
  {
   "cell_type": "code",
   "execution_count": 24,
   "id": "dae34872-dd27-4f0e-ad1f-73f38ae051a7",
   "metadata": {},
   "outputs": [
    {
     "data": {
      "text/plain": [
       "(0, 20)"
      ]
     },
     "execution_count": 24,
     "metadata": {},
     "output_type": "execute_result"
    }
   ],
   "source": [
    "# overview column now contains no nulls.\n",
    "df[df.overview.isnull()].shape"
   ]
  },
  {
   "cell_type": "markdown",
   "id": "bb39e94e-8218-411f-86ba-96eca5143b1c",
   "metadata": {
    "jp-MarkdownHeadingCollapsed": true
   },
   "source": [
    "##### Release_date column\n",
    "* Removed entry with no release date.\n",
    "* Dataframe now has 4802 rows."
   ]
  },
  {
   "cell_type": "code",
   "execution_count": 26,
   "id": "dbf8cbaf-22b0-4c95-a690-c755c7ce9af1",
   "metadata": {},
   "outputs": [
    {
     "data": {
      "text/html": [
       "<div>\n",
       "<style scoped>\n",
       "    .dataframe tbody tr th:only-of-type {\n",
       "        vertical-align: middle;\n",
       "    }\n",
       "\n",
       "    .dataframe tbody tr th {\n",
       "        vertical-align: top;\n",
       "    }\n",
       "\n",
       "    .dataframe thead th {\n",
       "        text-align: right;\n",
       "    }\n",
       "</style>\n",
       "<table border=\"1\" class=\"dataframe\">\n",
       "  <thead>\n",
       "    <tr style=\"text-align: right;\">\n",
       "      <th></th>\n",
       "      <th>budget</th>\n",
       "      <th>genres</th>\n",
       "      <th>homepage</th>\n",
       "      <th>id</th>\n",
       "      <th>keywords</th>\n",
       "      <th>original_language</th>\n",
       "      <th>original_title</th>\n",
       "      <th>overview</th>\n",
       "      <th>popularity</th>\n",
       "      <th>production_companies</th>\n",
       "      <th>production_countries</th>\n",
       "      <th>release_date</th>\n",
       "      <th>revenue</th>\n",
       "      <th>runtime</th>\n",
       "      <th>spoken_languages</th>\n",
       "      <th>status</th>\n",
       "      <th>tagline</th>\n",
       "      <th>title</th>\n",
       "      <th>vote_average</th>\n",
       "      <th>vote_count</th>\n",
       "    </tr>\n",
       "  </thead>\n",
       "  <tbody>\n",
       "    <tr>\n",
       "      <th>4553</th>\n",
       "      <td>0</td>\n",
       "      <td>[]</td>\n",
       "      <td>No homepage</td>\n",
       "      <td>380097</td>\n",
       "      <td>[]</td>\n",
       "      <td>en</td>\n",
       "      <td>America Is Still the Place</td>\n",
       "      <td>1971 post civil rights San Francisco seemed li...</td>\n",
       "      <td>0.0</td>\n",
       "      <td>[]</td>\n",
       "      <td>[]</td>\n",
       "      <td>NaN</td>\n",
       "      <td>0</td>\n",
       "      <td>0.0</td>\n",
       "      <td>[]</td>\n",
       "      <td>Released</td>\n",
       "      <td>NaN</td>\n",
       "      <td>America Is Still the Place</td>\n",
       "      <td>0.0</td>\n",
       "      <td>0</td>\n",
       "    </tr>\n",
       "  </tbody>\n",
       "</table>\n",
       "</div>"
      ],
      "text/plain": [
       "      budget genres     homepage      id keywords original_language  \\\n",
       "4553       0     []  No homepage  380097       []                en   \n",
       "\n",
       "                  original_title  \\\n",
       "4553  America Is Still the Place   \n",
       "\n",
       "                                               overview  popularity  \\\n",
       "4553  1971 post civil rights San Francisco seemed li...         0.0   \n",
       "\n",
       "     production_companies production_countries release_date  revenue  runtime  \\\n",
       "4553                   []                   []          NaN        0      0.0   \n",
       "\n",
       "     spoken_languages    status tagline                       title  \\\n",
       "4553               []  Released     NaN  America Is Still the Place   \n",
       "\n",
       "      vote_average  vote_count  \n",
       "4553           0.0           0  "
      ]
     },
     "execution_count": 26,
     "metadata": {},
     "output_type": "execute_result"
    }
   ],
   "source": [
    "# The release date null entry.\n",
    "df[df.release_date.isnull()]\n",
    "\n",
    "# We can see that there isn't enough info on this movie to keep it in our dataframe.\n",
    "# It only has a title and an overview. Everything else is zero or null."
   ]
  },
  {
   "cell_type": "code",
   "execution_count": 28,
   "id": "3392d1d3-e342-4d6c-aa89-58294538b2c9",
   "metadata": {},
   "outputs": [],
   "source": [
    "# Drop the null release_date entry from our dataframe.\n",
    "df.dropna(axis = 0,\n",
    "          how = 'any',\n",
    "          subset = ['release_date'],\n",
    "          inplace = True)"
   ]
  },
  {
   "cell_type": "code",
   "execution_count": 30,
   "id": "04d4feb5-87dd-4357-82f3-87c3322b5b44",
   "metadata": {},
   "outputs": [
    {
     "data": {
      "text/plain": [
       "(0, 20)"
      ]
     },
     "execution_count": 30,
     "metadata": {},
     "output_type": "execute_result"
    }
   ],
   "source": [
    "# release_date column now contains no nulls.\n",
    "df[df.release_date.isnull()].shape"
   ]
  },
  {
   "cell_type": "code",
   "execution_count": 32,
   "id": "ac3acd77-3273-4790-a2a2-aa351c51e5e2",
   "metadata": {},
   "outputs": [
    {
     "data": {
      "text/plain": [
       "(4802, 20)"
      ]
     },
     "execution_count": 32,
     "metadata": {},
     "output_type": "execute_result"
    }
   ],
   "source": [
    "# There should be one less row now (total count = 4802).\n",
    "df.shape"
   ]
  },
  {
   "cell_type": "markdown",
   "id": "38811154-0979-42b8-9f61-0de208cf4f9f",
   "metadata": {
    "jp-MarkdownHeadingCollapsed": true
   },
   "source": [
    "##### Runtime column\n",
    "* Replaced null values with the value of 0.0.\n",
    "* It turns out there are 36 movies (including the two null values) that have 0.0 runtime."
   ]
  },
  {
   "cell_type": "code",
   "execution_count": 34,
   "id": "bce026fc-b95e-473c-9806-d2fa787ffce5",
   "metadata": {},
   "outputs": [
    {
     "data": {
      "text/html": [
       "<div>\n",
       "<style scoped>\n",
       "    .dataframe tbody tr th:only-of-type {\n",
       "        vertical-align: middle;\n",
       "    }\n",
       "\n",
       "    .dataframe tbody tr th {\n",
       "        vertical-align: top;\n",
       "    }\n",
       "\n",
       "    .dataframe thead th {\n",
       "        text-align: right;\n",
       "    }\n",
       "</style>\n",
       "<table border=\"1\" class=\"dataframe\">\n",
       "  <thead>\n",
       "    <tr style=\"text-align: right;\">\n",
       "      <th></th>\n",
       "      <th>budget</th>\n",
       "      <th>genres</th>\n",
       "      <th>homepage</th>\n",
       "      <th>id</th>\n",
       "      <th>keywords</th>\n",
       "      <th>original_language</th>\n",
       "      <th>original_title</th>\n",
       "      <th>overview</th>\n",
       "      <th>popularity</th>\n",
       "      <th>production_companies</th>\n",
       "      <th>production_countries</th>\n",
       "      <th>release_date</th>\n",
       "      <th>revenue</th>\n",
       "      <th>runtime</th>\n",
       "      <th>spoken_languages</th>\n",
       "      <th>status</th>\n",
       "      <th>tagline</th>\n",
       "      <th>title</th>\n",
       "      <th>vote_average</th>\n",
       "      <th>vote_count</th>\n",
       "    </tr>\n",
       "  </thead>\n",
       "  <tbody>\n",
       "    <tr>\n",
       "      <th>2656</th>\n",
       "      <td>15000000</td>\n",
       "      <td>[{\"id\": 18, \"name\": \"Drama\"}]</td>\n",
       "      <td>No homepage</td>\n",
       "      <td>370980</td>\n",
       "      <td>[{\"id\": 717, \"name\": \"pope\"}, {\"id\": 5565, \"na...</td>\n",
       "      <td>it</td>\n",
       "      <td>Chiamatemi Francesco - Il Papa della gente</td>\n",
       "      <td>No overview</td>\n",
       "      <td>0.738646</td>\n",
       "      <td>[{\"name\": \"Taodue Film\", \"id\": 45724}]</td>\n",
       "      <td>[{\"iso_3166_1\": \"IT\", \"name\": \"Italy\"}]</td>\n",
       "      <td>2015-12-03</td>\n",
       "      <td>0</td>\n",
       "      <td>NaN</td>\n",
       "      <td>[{\"iso_639_1\": \"es\", \"name\": \"Espa\\u00f1ol\"}]</td>\n",
       "      <td>Released</td>\n",
       "      <td>NaN</td>\n",
       "      <td>Chiamatemi Francesco - Il Papa della gente</td>\n",
       "      <td>7.3</td>\n",
       "      <td>12</td>\n",
       "    </tr>\n",
       "    <tr>\n",
       "      <th>4140</th>\n",
       "      <td>2</td>\n",
       "      <td>[{\"id\": 99, \"name\": \"Documentary\"}]</td>\n",
       "      <td>No homepage</td>\n",
       "      <td>459488</td>\n",
       "      <td>[{\"id\": 6027, \"name\": \"music\"}, {\"id\": 225822,...</td>\n",
       "      <td>en</td>\n",
       "      <td>To Be Frank, Sinatra at 100</td>\n",
       "      <td>No overview</td>\n",
       "      <td>0.050625</td>\n",
       "      <td>[{\"name\": \"Eyeline Entertainment\", \"id\": 60343}]</td>\n",
       "      <td>[{\"iso_3166_1\": \"GB\", \"name\": \"United Kingdom\"}]</td>\n",
       "      <td>2015-12-12</td>\n",
       "      <td>0</td>\n",
       "      <td>NaN</td>\n",
       "      <td>[]</td>\n",
       "      <td>Released</td>\n",
       "      <td>NaN</td>\n",
       "      <td>To Be Frank, Sinatra at 100</td>\n",
       "      <td>0.0</td>\n",
       "      <td>0</td>\n",
       "    </tr>\n",
       "  </tbody>\n",
       "</table>\n",
       "</div>"
      ],
      "text/plain": [
       "        budget                               genres     homepage      id  \\\n",
       "2656  15000000        [{\"id\": 18, \"name\": \"Drama\"}]  No homepage  370980   \n",
       "4140         2  [{\"id\": 99, \"name\": \"Documentary\"}]  No homepage  459488   \n",
       "\n",
       "                                               keywords original_language  \\\n",
       "2656  [{\"id\": 717, \"name\": \"pope\"}, {\"id\": 5565, \"na...                it   \n",
       "4140  [{\"id\": 6027, \"name\": \"music\"}, {\"id\": 225822,...                en   \n",
       "\n",
       "                                  original_title     overview  popularity  \\\n",
       "2656  Chiamatemi Francesco - Il Papa della gente  No overview    0.738646   \n",
       "4140                 To Be Frank, Sinatra at 100  No overview    0.050625   \n",
       "\n",
       "                                  production_companies  \\\n",
       "2656            [{\"name\": \"Taodue Film\", \"id\": 45724}]   \n",
       "4140  [{\"name\": \"Eyeline Entertainment\", \"id\": 60343}]   \n",
       "\n",
       "                                  production_countries release_date  revenue  \\\n",
       "2656           [{\"iso_3166_1\": \"IT\", \"name\": \"Italy\"}]   2015-12-03        0   \n",
       "4140  [{\"iso_3166_1\": \"GB\", \"name\": \"United Kingdom\"}]   2015-12-12        0   \n",
       "\n",
       "      runtime                               spoken_languages    status  \\\n",
       "2656      NaN  [{\"iso_639_1\": \"es\", \"name\": \"Espa\\u00f1ol\"}]  Released   \n",
       "4140      NaN                                             []  Released   \n",
       "\n",
       "     tagline                                       title  vote_average  \\\n",
       "2656     NaN  Chiamatemi Francesco - Il Papa della gente           7.3   \n",
       "4140     NaN                 To Be Frank, Sinatra at 100           0.0   \n",
       "\n",
       "      vote_count  \n",
       "2656          12  \n",
       "4140           0  "
      ]
     },
     "execution_count": 34,
     "metadata": {},
     "output_type": "execute_result"
    }
   ],
   "source": [
    "# For some reason a lot of movies have a run time of 0.0 which can't be right.\n",
    "# Can assume that the runtime is unknown in these cases.\n",
    "# For that reason, I will make the null values also 0.0.\n",
    "df[df.runtime.isnull()]"
   ]
  },
  {
   "cell_type": "code",
   "execution_count": 36,
   "id": "e692d31d-f68a-43b5-ba0a-76d93c824b50",
   "metadata": {},
   "outputs": [],
   "source": [
    "# Fill the null values with a value of 0.0.\n",
    "df[['runtime']] = df[['runtime']].fillna(value = 0.0)"
   ]
  },
  {
   "cell_type": "code",
   "execution_count": 38,
   "id": "a142647d-5deb-4da9-a521-ff005594e423",
   "metadata": {},
   "outputs": [
    {
     "data": {
      "text/plain": [
       "(0, 20)"
      ]
     },
     "execution_count": 38,
     "metadata": {},
     "output_type": "execute_result"
    }
   ],
   "source": [
    "# Runtime column now contains no nulls.\n",
    "df[df.runtime.isnull()].shape"
   ]
  },
  {
   "cell_type": "code",
   "execution_count": 40,
   "id": "79c5eaaf-57a4-464a-8fc9-da7cc0a1d55a",
   "metadata": {},
   "outputs": [
    {
     "data": {
      "text/plain": [
       "(36, 20)"
      ]
     },
     "execution_count": 40,
     "metadata": {},
     "output_type": "execute_result"
    }
   ],
   "source": [
    "# We can see that there are 36 films with 0 runtime (including 2 we've added).\n",
    "df[df.runtime == 0].shape"
   ]
  },
  {
   "cell_type": "markdown",
   "id": "114b23a6-70d1-4088-bbc0-b9db6a3646b5",
   "metadata": {},
   "source": [
    "##### Runtime Graph\n",
    "- This graph shows the distribution of movies by runtime.\n",
    "- The graph shows the 36 movies with 0.0 runtime."
   ]
  },
  {
   "cell_type": "code",
   "execution_count": 43,
   "id": "5c752180-bef9-46db-bee1-1673c809e0b1",
   "metadata": {
    "jupyter": {
     "source_hidden": true
    }
   },
   "outputs": [
    {
     "data": {
      "text/plain": [
       "<Figure size 500x500 with 0 Axes>"
      ]
     },
     "metadata": {},
     "output_type": "display_data"
    },
    {
     "data": {
      "image/png": "[encoded data removed]",
      "text/plain": [
       "<Figure size 500x500 with 1 Axes>"
      ]
     },
     "metadata": {},
     "output_type": "display_data"
    }
   ],
   "source": [
    "# Graph showing distribution of movies by runtime.\n",
    "\n",
    "plt.figure(figsize = (5,5))  # Graph dimensions.\n",
    "\n",
    "sns.displot(data = df,          # Create distribution plot.\n",
    "            x = 'runtime')\n",
    "\n",
    "plt.title('Distribution of movies by runtime'.title())    # Add a graph title.\n",
    "plt.ylabel('Number of movies')    # y axis label.\n",
    "plt.xlabel('Runtime')     # x axis label.\n",
    "\n",
    "plt.show()"
   ]
  },
  {
   "cell_type": "markdown",
   "id": "47793c8d-f1e0-433a-94fb-c0b1b7bc62f2",
   "metadata": {
    "jp-MarkdownHeadingCollapsed": true
   },
   "source": [
    "##### Tagline column\n",
    "* Replaced all null values with 'No tagline'."
   ]
  },
  {
   "cell_type": "code",
   "execution_count": 47,
   "id": "09cb0fab-64f7-4abd-a0df-43d699ad3562",
   "metadata": {},
   "outputs": [
    {
     "data": {
      "text/html": [
       "<div>\n",
       "<style scoped>\n",
       "    .dataframe tbody tr th:only-of-type {\n",
       "        vertical-align: middle;\n",
       "    }\n",
       "\n",
       "    .dataframe tbody tr th {\n",
       "        vertical-align: top;\n",
       "    }\n",
       "\n",
       "    .dataframe thead th {\n",
       "        text-align: right;\n",
       "    }\n",
       "</style>\n",
       "<table border=\"1\" class=\"dataframe\">\n",
       "  <thead>\n",
       "    <tr style=\"text-align: right;\">\n",
       "      <th></th>\n",
       "      <th>budget</th>\n",
       "      <th>genres</th>\n",
       "      <th>homepage</th>\n",
       "      <th>id</th>\n",
       "      <th>keywords</th>\n",
       "      <th>original_language</th>\n",
       "      <th>original_title</th>\n",
       "      <th>overview</th>\n",
       "      <th>popularity</th>\n",
       "      <th>production_companies</th>\n",
       "      <th>production_countries</th>\n",
       "      <th>release_date</th>\n",
       "      <th>revenue</th>\n",
       "      <th>runtime</th>\n",
       "      <th>spoken_languages</th>\n",
       "      <th>status</th>\n",
       "      <th>tagline</th>\n",
       "      <th>title</th>\n",
       "      <th>vote_average</th>\n",
       "      <th>vote_count</th>\n",
       "    </tr>\n",
       "  </thead>\n",
       "  <tbody>\n",
       "    <tr>\n",
       "      <th>10</th>\n",
       "      <td>270000000</td>\n",
       "      <td>[{\"id\": 12, \"name\": \"Adventure\"}, {\"id\": 14, \"...</td>\n",
       "      <td>http://www.superman.com</td>\n",
       "      <td>1452</td>\n",
       "      <td>[{\"id\": 83, \"name\": \"saving the world\"}, {\"id\"...</td>\n",
       "      <td>en</td>\n",
       "      <td>Superman Returns</td>\n",
       "      <td>Superman returns to discover his 5-year absenc...</td>\n",
       "      <td>57.925623</td>\n",
       "      <td>[{\"name\": \"DC Comics\", \"id\": 429}, {\"name\": \"L...</td>\n",
       "      <td>[{\"iso_3166_1\": \"US\", \"name\": \"United States o...</td>\n",
       "      <td>2006-06-28</td>\n",
       "      <td>391081192</td>\n",
       "      <td>154.0</td>\n",
       "      <td>[{\"iso_639_1\": \"en\", \"name\": \"English\"}, {\"iso...</td>\n",
       "      <td>Released</td>\n",
       "      <td>NaN</td>\n",
       "      <td>Superman Returns</td>\n",
       "      <td>5.4</td>\n",
       "      <td>1400</td>\n",
       "    </tr>\n",
       "    <tr>\n",
       "      <th>56</th>\n",
       "      <td>185000000</td>\n",
       "      <td>[{\"id\": 28, \"name\": \"Action\"}, {\"id\": 12, \"nam...</td>\n",
       "      <td>http://www.startrekmovie.com/</td>\n",
       "      <td>188927</td>\n",
       "      <td>[{\"id\": 9663, \"name\": \"sequel\"}, {\"id\": 9743, ...</td>\n",
       "      <td>en</td>\n",
       "      <td>Star Trek Beyond</td>\n",
       "      <td>The USS Enterprise crew explores the furthest ...</td>\n",
       "      <td>65.352913</td>\n",
       "      <td>[{\"name\": \"Paramount Pictures\", \"id\": 4}, {\"na...</td>\n",
       "      <td>[{\"iso_3166_1\": \"US\", \"name\": \"United States o...</td>\n",
       "      <td>2016-07-07</td>\n",
       "      <td>343471816</td>\n",
       "      <td>122.0</td>\n",
       "      <td>[{\"iso_639_1\": \"en\", \"name\": \"English\"}]</td>\n",
       "      <td>Released</td>\n",
       "      <td>NaN</td>\n",
       "      <td>Star Trek Beyond</td>\n",
       "      <td>6.6</td>\n",
       "      <td>2568</td>\n",
       "    </tr>\n",
       "    <tr>\n",
       "      <th>66</th>\n",
       "      <td>175000000</td>\n",
       "      <td>[{\"id\": 16, \"name\": \"Animation\"}, {\"id\": 35, \"...</td>\n",
       "      <td>http://disney.go.com/disneypictures/up/</td>\n",
       "      <td>14160</td>\n",
       "      <td>[{\"id\": 965, \"name\": \"age difference\"}, {\"id\":...</td>\n",
       "      <td>en</td>\n",
       "      <td>Up</td>\n",
       "      <td>Carl Fredricksen spent his entire life dreamin...</td>\n",
       "      <td>92.201962</td>\n",
       "      <td>[{\"name\": \"Pixar Animation Studios\", \"id\": 3}]</td>\n",
       "      <td>[{\"iso_3166_1\": \"US\", \"name\": \"United States o...</td>\n",
       "      <td>2009-05-13</td>\n",
       "      <td>735099082</td>\n",
       "      <td>96.0</td>\n",
       "      <td>[{\"iso_639_1\": \"en\", \"name\": \"English\"}]</td>\n",
       "      <td>Released</td>\n",
       "      <td>NaN</td>\n",
       "      <td>Up</td>\n",
       "      <td>7.7</td>\n",
       "      <td>6870</td>\n",
       "    </tr>\n",
       "    <tr>\n",
       "      <th>78</th>\n",
       "      <td>175000000</td>\n",
       "      <td>[{\"id\": 10751, \"name\": \"Family\"}, {\"id\": 12, \"...</td>\n",
       "      <td>http://movies.disney.com/the-jungle-book-2016</td>\n",
       "      <td>278927</td>\n",
       "      <td>[{\"id\": 818, \"name\": \"based on novel\"}, {\"id\":...</td>\n",
       "      <td>en</td>\n",
       "      <td>The Jungle Book</td>\n",
       "      <td>After a threat from the tiger Shere Khan force...</td>\n",
       "      <td>94.199316</td>\n",
       "      <td>[{\"name\": \"Walt Disney Pictures\", \"id\": 2}, {\"...</td>\n",
       "      <td>[{\"iso_3166_1\": \"GB\", \"name\": \"United Kingdom\"...</td>\n",
       "      <td>2016-04-07</td>\n",
       "      <td>966550600</td>\n",
       "      <td>106.0</td>\n",
       "      <td>[{\"iso_639_1\": \"en\", \"name\": \"English\"}]</td>\n",
       "      <td>Released</td>\n",
       "      <td>NaN</td>\n",
       "      <td>The Jungle Book</td>\n",
       "      <td>6.7</td>\n",
       "      <td>2892</td>\n",
       "    </tr>\n",
       "    <tr>\n",
       "      <th>128</th>\n",
       "      <td>150000000</td>\n",
       "      <td>[{\"id\": 53, \"name\": \"Thriller\"}, {\"id\": 9648, ...</td>\n",
       "      <td>http://www.angelsanddemons.com/</td>\n",
       "      <td>13448</td>\n",
       "      <td>[{\"id\": 588, \"name\": \"rome\"}, {\"id\": 716, \"nam...</td>\n",
       "      <td>en</td>\n",
       "      <td>Angels &amp; Demons</td>\n",
       "      <td>Harvard symbologist Robert Langdon investigate...</td>\n",
       "      <td>67.447636</td>\n",
       "      <td>[{\"name\": \"Columbia Pictures\", \"id\": 5}, {\"nam...</td>\n",
       "      <td>[{\"iso_3166_1\": \"IT\", \"name\": \"Italy\"}, {\"iso_...</td>\n",
       "      <td>2009-05-13</td>\n",
       "      <td>356613439</td>\n",
       "      <td>138.0</td>\n",
       "      <td>[{\"iso_639_1\": \"en\", \"name\": \"English\"}, {\"iso...</td>\n",
       "      <td>Released</td>\n",
       "      <td>NaN</td>\n",
       "      <td>Angels &amp; Demons</td>\n",
       "      <td>6.5</td>\n",
       "      <td>2129</td>\n",
       "    </tr>\n",
       "  </tbody>\n",
       "</table>\n",
       "</div>"
      ],
      "text/plain": [
       "        budget                                             genres  \\\n",
       "10   270000000  [{\"id\": 12, \"name\": \"Adventure\"}, {\"id\": 14, \"...   \n",
       "56   185000000  [{\"id\": 28, \"name\": \"Action\"}, {\"id\": 12, \"nam...   \n",
       "66   175000000  [{\"id\": 16, \"name\": \"Animation\"}, {\"id\": 35, \"...   \n",
       "78   175000000  [{\"id\": 10751, \"name\": \"Family\"}, {\"id\": 12, \"...   \n",
       "128  150000000  [{\"id\": 53, \"name\": \"Thriller\"}, {\"id\": 9648, ...   \n",
       "\n",
       "                                          homepage      id  \\\n",
       "10                         http://www.superman.com    1452   \n",
       "56                   http://www.startrekmovie.com/  188927   \n",
       "66         http://disney.go.com/disneypictures/up/   14160   \n",
       "78   http://movies.disney.com/the-jungle-book-2016  278927   \n",
       "128                http://www.angelsanddemons.com/   13448   \n",
       "\n",
       "                                              keywords original_language  \\\n",
       "10   [{\"id\": 83, \"name\": \"saving the world\"}, {\"id\"...                en   \n",
       "56   [{\"id\": 9663, \"name\": \"sequel\"}, {\"id\": 9743, ...                en   \n",
       "66   [{\"id\": 965, \"name\": \"age difference\"}, {\"id\":...                en   \n",
       "78   [{\"id\": 818, \"name\": \"based on novel\"}, {\"id\":...                en   \n",
       "128  [{\"id\": 588, \"name\": \"rome\"}, {\"id\": 716, \"nam...                en   \n",
       "\n",
       "       original_title                                           overview  \\\n",
       "10   Superman Returns  Superman returns to discover his 5-year absenc...   \n",
       "56   Star Trek Beyond  The USS Enterprise crew explores the furthest ...   \n",
       "66                 Up  Carl Fredricksen spent his entire life dreamin...   \n",
       "78    The Jungle Book  After a threat from the tiger Shere Khan force...   \n",
       "128   Angels & Demons  Harvard symbologist Robert Langdon investigate...   \n",
       "\n",
       "     popularity                               production_companies  \\\n",
       "10    57.925623  [{\"name\": \"DC Comics\", \"id\": 429}, {\"name\": \"L...   \n",
       "56    65.352913  [{\"name\": \"Paramount Pictures\", \"id\": 4}, {\"na...   \n",
       "66    92.201962     [{\"name\": \"Pixar Animation Studios\", \"id\": 3}]   \n",
       "78    94.199316  [{\"name\": \"Walt Disney Pictures\", \"id\": 2}, {\"...   \n",
       "128   67.447636  [{\"name\": \"Columbia Pictures\", \"id\": 5}, {\"nam...   \n",
       "\n",
       "                                  production_countries release_date  \\\n",
       "10   [{\"iso_3166_1\": \"US\", \"name\": \"United States o...   2006-06-28   \n",
       "56   [{\"iso_3166_1\": \"US\", \"name\": \"United States o...   2016-07-07   \n",
       "66   [{\"iso_3166_1\": \"US\", \"name\": \"United States o...   2009-05-13   \n",
       "78   [{\"iso_3166_1\": \"GB\", \"name\": \"United Kingdom\"...   2016-04-07   \n",
       "128  [{\"iso_3166_1\": \"IT\", \"name\": \"Italy\"}, {\"iso_...   2009-05-13   \n",
       "\n",
       "       revenue  runtime                                   spoken_languages  \\\n",
       "10   391081192    154.0  [{\"iso_639_1\": \"en\", \"name\": \"English\"}, {\"iso...   \n",
       "56   343471816    122.0           [{\"iso_639_1\": \"en\", \"name\": \"English\"}]   \n",
       "66   735099082     96.0           [{\"iso_639_1\": \"en\", \"name\": \"English\"}]   \n",
       "78   966550600    106.0           [{\"iso_639_1\": \"en\", \"name\": \"English\"}]   \n",
       "128  356613439    138.0  [{\"iso_639_1\": \"en\", \"name\": \"English\"}, {\"iso...   \n",
       "\n",
       "       status tagline             title  vote_average  vote_count  \n",
       "10   Released     NaN  Superman Returns           5.4        1400  \n",
       "56   Released     NaN  Star Trek Beyond           6.6        2568  \n",
       "66   Released     NaN                Up           7.7        6870  \n",
       "78   Released     NaN   The Jungle Book           6.7        2892  \n",
       "128  Released     NaN   Angels & Demons           6.5        2129  "
      ]
     },
     "execution_count": 47,
     "metadata": {},
     "output_type": "execute_result"
    }
   ],
   "source": [
    "# Can assume that tagline nulls mean that this is no tagline.\n",
    "df[df.tagline.isnull()].head()"
   ]
  },
  {
   "cell_type": "code",
   "execution_count": 49,
   "id": "8584730e-6fea-4309-b4a4-68938f62b747",
   "metadata": {},
   "outputs": [],
   "source": [
    "# Fill in null values with 'No tagline'.\n",
    "df[['tagline']] = df[['tagline']].fillna(value = 'No tagline',\n",
    "                                         method = None)"
   ]
  },
  {
   "cell_type": "code",
   "execution_count": 51,
   "id": "dbe09228-d2e2-493b-8e82-e2af6cece613",
   "metadata": {},
   "outputs": [
    {
     "data": {
      "text/plain": [
       "(0, 20)"
      ]
     },
     "execution_count": 51,
     "metadata": {},
     "output_type": "execute_result"
    }
   ],
   "source": [
    "# Now there are no nulls in the tagline column.\n",
    "df[df.tagline.isnull()].shape"
   ]
  },
  {
   "cell_type": "markdown",
   "id": "ea8d3d79-2dc5-496e-8ec3-9f0179312539",
   "metadata": {
    "jp-MarkdownHeadingCollapsed": true
   },
   "source": [
    "##### Summary\n",
    "- Dataframe now contains no nulls..\n",
    "- There are now 4802 rows.\n",
    "- There are still 20 columns."
   ]
  },
  {
   "cell_type": "code",
   "execution_count": 53,
   "id": "b8dea9fa-5ee3-4a11-a551-f84eeb9914ac",
   "metadata": {},
   "outputs": [
    {
     "data": {
      "text/plain": [
       "budget                  0\n",
       "genres                  0\n",
       "homepage                0\n",
       "id                      0\n",
       "keywords                0\n",
       "original_language       0\n",
       "original_title          0\n",
       "overview                0\n",
       "popularity              0\n",
       "production_companies    0\n",
       "production_countries    0\n",
       "release_date            0\n",
       "revenue                 0\n",
       "runtime                 0\n",
       "spoken_languages        0\n",
       "status                  0\n",
       "tagline                 0\n",
       "title                   0\n",
       "vote_average            0\n",
       "vote_count              0\n",
       "dtype: int64"
      ]
     },
     "execution_count": 53,
     "metadata": {},
     "output_type": "execute_result"
    }
   ],
   "source": [
    "# Dataframe now contains no nulls.\n",
    "df.isnull().sum()"
   ]
  },
  {
   "cell_type": "code",
   "execution_count": 55,
   "id": "6e8ebcce-9c10-46bc-b80d-e680137974d0",
   "metadata": {},
   "outputs": [
    {
     "data": {
      "text/plain": [
       "(4802, 20)"
      ]
     },
     "execution_count": 55,
     "metadata": {},
     "output_type": "execute_result"
    }
   ],
   "source": [
    "df.shape\n",
    "# Remember there is now one less row."
   ]
  },
  {
   "cell_type": "markdown",
   "id": "e5427d35-b669-420d-8211-f66eed44d17b",
   "metadata": {},
   "source": [
    "## Dealing with the columns"
   ]
  },
  {
   "cell_type": "markdown",
   "id": "e19d6c6f-1f02-4c16-9e28-983660dce8b4",
   "metadata": {
    "jp-MarkdownHeadingCollapsed": true
   },
   "source": [
    "#### Convert strings to lists\n",
    "* Five columns contained lists of 0 or more dictionaries that contained a value corresponding to the column:\n",
    "    * <i>genres,</i>\n",
    "    * <i>keywords,</i>\n",
    "    * <i>production companies,<i/>\n",
    "    * <i>production countries,<i/>\n",
    "    * <i>spoken languages.<i/>\n",
    "* However, these lists were in the form of a string.\n",
    "* I wanted to know the distinct genres of the movies so I added new columns with these strings converted to lists.\n",
    "    * (Note): the dataframe now has 25 columns."
   ]
  },
  {
   "cell_type": "code",
   "execution_count": 59,
   "id": "d22c77ad-0390-4476-b1a9-65f7181cd9c3",
   "metadata": {},
   "outputs": [
    {
     "data": {
      "text/html": [
       "<div>\n",
       "<style scoped>\n",
       "    .dataframe tbody tr th:only-of-type {\n",
       "        vertical-align: middle;\n",
       "    }\n",
       "\n",
       "    .dataframe tbody tr th {\n",
       "        vertical-align: top;\n",
       "    }\n",
       "\n",
       "    .dataframe thead th {\n",
       "        text-align: right;\n",
       "    }\n",
       "</style>\n",
       "<table border=\"1\" class=\"dataframe\">\n",
       "  <thead>\n",
       "    <tr style=\"text-align: right;\">\n",
       "      <th></th>\n",
       "      <th>budget</th>\n",
       "      <th>genres</th>\n",
       "      <th>homepage</th>\n",
       "      <th>id</th>\n",
       "      <th>keywords</th>\n",
       "      <th>original_language</th>\n",
       "      <th>original_title</th>\n",
       "      <th>overview</th>\n",
       "      <th>popularity</th>\n",
       "      <th>production_companies</th>\n",
       "      <th>production_countries</th>\n",
       "      <th>release_date</th>\n",
       "      <th>revenue</th>\n",
       "      <th>runtime</th>\n",
       "      <th>spoken_languages</th>\n",
       "      <th>status</th>\n",
       "      <th>tagline</th>\n",
       "      <th>title</th>\n",
       "      <th>vote_average</th>\n",
       "      <th>vote_count</th>\n",
       "    </tr>\n",
       "  </thead>\n",
       "  <tbody>\n",
       "    <tr>\n",
       "      <th>0</th>\n",
       "      <td>237000000</td>\n",
       "      <td>[{\"id\": 28, \"name\": \"Action\"}, {\"id\": 12, \"nam...</td>\n",
       "      <td>http://www.avatarmovie.com/</td>\n",
       "      <td>19995</td>\n",
       "      <td>[{\"id\": 1463, \"name\": \"culture clash\"}, {\"id\":...</td>\n",
       "      <td>en</td>\n",
       "      <td>Avatar</td>\n",
       "      <td>In the 22nd century, a paraplegic Marine is di...</td>\n",
       "      <td>150.437577</td>\n",
       "      <td>[{\"name\": \"Ingenious Film Partners\", \"id\": 289...</td>\n",
       "      <td>[{\"iso_3166_1\": \"US\", \"name\": \"United States o...</td>\n",
       "      <td>2009-12-10</td>\n",
       "      <td>2787965087</td>\n",
       "      <td>162.0</td>\n",
       "      <td>[{\"iso_639_1\": \"en\", \"name\": \"English\"}, {\"iso...</td>\n",
       "      <td>Released</td>\n",
       "      <td>Enter the World of Pandora.</td>\n",
       "      <td>Avatar</td>\n",
       "      <td>7.2</td>\n",
       "      <td>11800</td>\n",
       "    </tr>\n",
       "  </tbody>\n",
       "</table>\n",
       "</div>"
      ],
      "text/plain": [
       "      budget                                             genres  \\\n",
       "0  237000000  [{\"id\": 28, \"name\": \"Action\"}, {\"id\": 12, \"nam...   \n",
       "\n",
       "                      homepage     id  \\\n",
       "0  http://www.avatarmovie.com/  19995   \n",
       "\n",
       "                                            keywords original_language  \\\n",
       "0  [{\"id\": 1463, \"name\": \"culture clash\"}, {\"id\":...                en   \n",
       "\n",
       "  original_title                                           overview  \\\n",
       "0         Avatar  In the 22nd century, a paraplegic Marine is di...   \n",
       "\n",
       "   popularity                               production_companies  \\\n",
       "0  150.437577  [{\"name\": \"Ingenious Film Partners\", \"id\": 289...   \n",
       "\n",
       "                                production_countries release_date     revenue  \\\n",
       "0  [{\"iso_3166_1\": \"US\", \"name\": \"United States o...   2009-12-10  2787965087   \n",
       "\n",
       "   runtime                                   spoken_languages    status  \\\n",
       "0    162.0  [{\"iso_639_1\": \"en\", \"name\": \"English\"}, {\"iso...  Released   \n",
       "\n",
       "                       tagline   title  vote_average  vote_count  \n",
       "0  Enter the World of Pandora.  Avatar           7.2       11800  "
      ]
     },
     "execution_count": 59,
     "metadata": {},
     "output_type": "execute_result"
    }
   ],
   "source": [
    "# The genres, keywords, production_companies, production_countries, spoken_languages columns contain lists.\n",
    "df.head(1)"
   ]
  },
  {
   "cell_type": "code",
   "execution_count": 61,
   "id": "6351b256-3717-496f-8c6c-53664a6dc358",
   "metadata": {},
   "outputs": [
    {
     "name": "stdout",
     "output_type": "stream",
     "text": [
      "<class 'pandas.core.frame.DataFrame'>\n",
      "Index: 4802 entries, 0 to 4802\n",
      "Data columns (total 20 columns):\n",
      " #   Column                Non-Null Count  Dtype  \n",
      "---  ------                --------------  -----  \n",
      " 0   budget                4802 non-null   int64  \n",
      " 1   genres                4802 non-null   object \n",
      " 2   homepage              4802 non-null   object \n",
      " 3   id                    4802 non-null   int64  \n",
      " 4   keywords              4802 non-null   object \n",
      " 5   original_language     4802 non-null   object \n",
      " 6   original_title        4802 non-null   object \n",
      " 7   overview              4802 non-null   object \n",
      " 8   popularity            4802 non-null   float64\n",
      " 9   production_companies  4802 non-null   object \n",
      " 10  production_countries  4802 non-null   object \n",
      " 11  release_date          4802 non-null   object \n",
      " 12  revenue               4802 non-null   int64  \n",
      " 13  runtime               4802 non-null   float64\n",
      " 14  spoken_languages      4802 non-null   object \n",
      " 15  status                4802 non-null   object \n",
      " 16  tagline               4802 non-null   object \n",
      " 17  title                 4802 non-null   object \n",
      " 18  vote_average          4802 non-null   float64\n",
      " 19  vote_count            4802 non-null   int64  \n",
      "dtypes: float64(3), int64(4), object(13)\n",
      "memory usage: 787.8+ KB\n"
     ]
    }
   ],
   "source": [
    "# However, I cannot access these lists as their data type is 'object'.\n",
    "df.info()"
   ]
  },
  {
   "cell_type": "code",
   "execution_count": 63,
   "id": "247f4e3f-1363-421f-a4c2-1cc6da61fc8d",
   "metadata": {},
   "outputs": [
    {
     "data": {
      "text/plain": [
       "'[{\"id\": 28, \"name\": \"Action\"}, {\"id\": 12, \"name\": \"Adventure\"}, {\"id\": 14, \"name\": \"Fantasy\"}, {\"id\": 878, \"name\": \"Science Fiction\"}]'"
      ]
     },
     "execution_count": 63,
     "metadata": {},
     "output_type": "execute_result"
    }
   ],
   "source": [
    "# This is a string. I want to convert the genres column to list type.\n",
    "df['genres'][0]"
   ]
  },
  {
   "cell_type": "code",
   "execution_count": 65,
   "id": "5fd62b6a-e905-4d15-91c1-a3552a0c7f22",
   "metadata": {},
   "outputs": [],
   "source": [
    "# Using the ast library we can convert the strings to lists.\n",
    "# We will add new columns for the 'list versions' of the columns.\n",
    "import ast\n",
    "\n",
    "# Function converts the 'list string' to a list.\n",
    "def convert_list(x):\n",
    "    return ast.literal_eval(x)\n",
    "\n",
    "# Create new columns for the 'list version' of each of the relevant columns.\n",
    "df['genres_list'] = df.genres.apply(convert_list)\n",
    "df['keywords_list'] = df.keywords.apply(convert_list)\n",
    "df['production_companies_list'] = df.production_companies.apply(convert_list)\n",
    "df['production_countries_list'] = df.production_countries.apply(convert_list)\n",
    "df['spoken_languages_list'] = df.spoken_languages.apply(convert_list)"
   ]
  },
  {
   "cell_type": "code",
   "execution_count": 67,
   "id": "8555ea9f-1898-4d9d-81f7-366bd3ee418d",
   "metadata": {},
   "outputs": [
    {
     "data": {
      "text/plain": [
       "[{'id': 28, 'name': 'Action'},\n",
       " {'id': 12, 'name': 'Adventure'},\n",
       " {'id': 14, 'name': 'Fantasy'},\n",
       " {'id': 878, 'name': 'Science Fiction'}]"
      ]
     },
     "execution_count": 67,
     "metadata": {},
     "output_type": "execute_result"
    }
   ],
   "source": [
    "# Now this is a list, as required.\n",
    "df['genres_list'][0]"
   ]
  },
  {
   "cell_type": "code",
   "execution_count": 69,
   "id": "d4756449-0976-45d4-8b08-293533e633e2",
   "metadata": {},
   "outputs": [
    {
     "data": {
      "text/plain": [
       "(4802, 25)"
      ]
     },
     "execution_count": 69,
     "metadata": {},
     "output_type": "execute_result"
    }
   ],
   "source": [
    "# There are now 5 extra columns.\n",
    "df.shape"
   ]
  },
  {
   "cell_type": "code",
   "execution_count": 71,
   "id": "d5f494d3-1306-4845-88f1-25505fa02344",
   "metadata": {},
   "outputs": [
    {
     "name": "stdout",
     "output_type": "stream",
     "text": [
      "20\n",
      "9813\n",
      "5017\n",
      "88\n",
      "62\n"
     ]
    }
   ],
   "source": [
    "# This function displays the number of distinct values in each of the new columns.\n",
    "def col_distinct(column):\n",
    "    col_list = []\n",
    "    for lst in df[column]:\n",
    "        for dict in lst:\n",
    "            if dict['name'] not in col_list:\n",
    "                col_list.append(dict['name'])\n",
    "    print(len(col_list))\n",
    "\n",
    "col_distinct('genres_list')\n",
    "col_distinct('keywords_list')\n",
    "col_distinct('production_companies_list')\n",
    "col_distinct('production_countries_list')\n",
    "col_distinct('spoken_languages_list')"
   ]
  },
  {
   "cell_type": "markdown",
   "id": "3fb4f091-ff75-4fc6-b594-c9eb7363a652",
   "metadata": {},
   "source": [
    "#### Number of distinct values for 'list' columns\n",
    "- __20 distinct genres.__\n",
    "- 9813 distinct keywords.\n",
    "- 5017 distinct production companies.\n",
    "- 88 distinct production countries.\n",
    "- 62 distinct spoken languages."
   ]
  },
  {
   "cell_type": "markdown",
   "id": "92805e51-57fd-4775-bc19-af592659ebf0",
   "metadata": {
    "jp-MarkdownHeadingCollapsed": true
   },
   "source": [
    "#### Exploring distinct genres\n",
    "* Created a list of the 20 distinct genres."
   ]
  },
  {
   "cell_type": "code",
   "execution_count": 74,
   "id": "b0350b5b-bdea-4e59-8e15-253023022d57",
   "metadata": {},
   "outputs": [],
   "source": [
    "# Create a list of distinct columns.\n",
    "\n",
    "# This function returns a list of distinct values (same function from above except it returns col_list).\n",
    "def col_distinct(column):\n",
    "    col_list = []\n",
    "    for lst in df[column]:\n",
    "        for dict in lst:\n",
    "            if dict['name'] not in col_list:\n",
    "                col_list.append(dict['name'])\n",
    "    return col_list\n",
    "\n",
    "distinct_genres = col_distinct('genres_list')     # I will use this list later!!!"
   ]
  },
  {
   "cell_type": "markdown",
   "id": "5a859624-e42f-466f-bf58-18ef55856b66",
   "metadata": {},
   "source": [
    "Figuring out how to extract data from df using the distinct genres list and the new list columns in df:"
   ]
  },
  {
   "cell_type": "code",
   "execution_count": 76,
   "id": "b16bdce4-a004-4388-81d7-a559d942f02d",
   "metadata": {},
   "outputs": [
    {
     "name": "stdout",
     "output_type": "stream",
     "text": [
      "Action\n",
      "1154\n",
      "Adventure\n",
      "790\n",
      "Fantasy\n",
      "424\n",
      "Science Fiction\n",
      "535\n",
      "Crime\n",
      "696\n",
      "Drama\n",
      "2297\n",
      "Thriller\n",
      "1274\n",
      "Animation\n",
      "234\n",
      "Family\n",
      "513\n",
      "Western\n",
      "82\n",
      "Comedy\n",
      "1722\n",
      "Romance\n",
      "894\n",
      "Horror\n",
      "519\n",
      "Mystery\n",
      "348\n",
      "History\n",
      "197\n",
      "War\n",
      "144\n",
      "Music\n",
      "185\n",
      "Documentary\n",
      "110\n",
      "Foreign\n",
      "34\n",
      "TV Movie\n",
      "8\n"
     ]
    }
   ],
   "source": [
    "# This will print each distinct genre followed by the number of appearances in the dataframe df.\n",
    "for item in distinct_genres:\n",
    "    print(item)\n",
    "    print(df.genres.str.contains(item).sum()) \n",
    "    \n",
    "    # Notice we use the original genres 'string' column to see if it contains the specified genre."
   ]
  },
  {
   "cell_type": "code",
   "execution_count": 78,
   "id": "d82432e1-b759-4d30-a2e8-15c6335207af",
   "metadata": {},
   "outputs": [
    {
     "name": "stdout",
     "output_type": "stream",
     "text": [
      "7\n"
     ]
    }
   ],
   "source": [
    "# The most number of genres a movie has is 7.\n",
    "max_genres = 0\n",
    "for lst in df.genres_list:\n",
    "    if len(lst) > max_genres:\n",
    "        max_genres = len(lst)\n",
    "print(max_genres)"
   ]
  },
  {
   "cell_type": "markdown",
   "id": "956db75b-86c9-4d7f-9481-bef622b19e22",
   "metadata": {},
   "source": [
    "## Looking into correlations\n",
    "* I wanted to find out the relationship between relevant numeric columns in the dataframe.\n",
    "* I introduced two new columns (profit and profit percentage) to include in the correlation map."
   ]
  },
  {
   "cell_type": "code",
   "execution_count": 82,
   "id": "a351255c-e74b-4422-8fd1-f13e7f71d565",
   "metadata": {},
   "outputs": [],
   "source": [
    "# Want to see the profit and profit percentage correlations too so add these columns to df.\n",
    "df['profit'] = df.revenue - df.budget"
   ]
  },
  {
   "cell_type": "code",
   "execution_count": 84,
   "id": "798c4bd2-6e02-469c-838f-22ae59a0f499",
   "metadata": {},
   "outputs": [],
   "source": [
    "# Profit percentage is a ratio between the profit and the cost of the movie.\n",
    "df['profit_percentage'] = df.profit/df.budget * 100"
   ]
  },
  {
   "cell_type": "code",
   "execution_count": 86,
   "id": "41f5474c-3b43-4851-aa44-a5ee539e5069",
   "metadata": {},
   "outputs": [
    {
     "data": {
      "text/plain": [
       "(4802, 27)"
      ]
     },
     "execution_count": 86,
     "metadata": {},
     "output_type": "execute_result"
    }
   ],
   "source": [
    "# There are now two more columns.\n",
    "df.shape"
   ]
  },
  {
   "cell_type": "code",
   "execution_count": 88,
   "id": "4b2e10c1-88da-4523-8f5b-d77ea28bce78",
   "metadata": {},
   "outputs": [],
   "source": [
    "# Create a smaller dataframe containing only the numeric columns I want in the correlation.\n",
    "corr_columns = df[['budget', 'popularity', 'revenue', 'runtime', 'vote_average', 'vote_count', 'profit', 'profit_percentage']]"
   ]
  },
  {
   "cell_type": "code",
   "execution_count": 90,
   "id": "2b3c56a3-04a4-44dd-ba01-57f9fcef6db7",
   "metadata": {
    "jupyter": {
     "source_hidden": true
    }
   },
   "outputs": [
    {
     "data": {
      "image/png": "[encoded data removed]",
      "text/plain": [
       "<Figure size 600x600 with 2 Axes>"
      ]
     },
     "metadata": {},
     "output_type": "display_data"
    }
   ],
   "source": [
    "# Create a heatmap showing the correlation between different columns in the movies dataframe.\n",
    "\n",
    "plt.figure(figsize = (6,6))                  # Graph dimensions.\n",
    "\n",
    "sns.heatmap(data = corr_columns.corr(),                  # Use data from the new corr_columns dataframe.\n",
    "            annot = True,\n",
    "            fmt = '.1%',\n",
    "            mask = np.triu(corr_columns.corr()))\n",
    "\n",
    "plt.title('Correlation heatmap for the movies dataframe'.title())      # Add a graph title.\n",
    "\n",
    "plt.show()"
   ]
  },
  {
   "cell_type": "markdown",
   "id": "b3a7a402-a060-4bca-be4f-556804098402",
   "metadata": {},
   "source": [
    "#### Key Observations:\n",
    "- Revenue has very strong correlation with profit, but NOT with profit percentage.\n",
    "- Runtime and Vote Average have weak correlation with all the other categories."
   ]
  },
  {
   "cell_type": "markdown",
   "id": "23445515-800a-44d6-9396-0376ede3a223",
   "metadata": {},
   "source": [
    "## Creating new dataframe for the distinct genres\n",
    "* I created a new dataframe containing aggregates for each distinct genre.\n",
    "* Columns:\n",
    "    * _genres,_\n",
    "    * _count,_\n",
    "    * _avg_budget,_\n",
    "    * _avg_popularity,_\n",
    "    * _avg_revenue,_\n",
    "    * _vote_average,_\n",
    "    * _avg_vote_count,_\n",
    "    * _avg_profit,_\n",
    "    * _percentage_profit._"
   ]
  },
  {
   "cell_type": "code",
   "execution_count": 92,
   "id": "0158a7b2-83f3-4713-ab9b-5e64cb06d5d4",
   "metadata": {},
   "outputs": [
    {
     "data": {
      "text/plain": [
       "(4802, 47)"
      ]
     },
     "execution_count": 92,
     "metadata": {},
     "output_type": "execute_result"
    }
   ],
   "source": [
    "# Create columns in df for every distinct genre.\n",
    "# Distinct genre entry = True if it is in the list of genres, False otherwise.\n",
    "\n",
    "for genre in distinct_genres:                    # Loops through each distinct genre.\n",
    "    df[genre] = df.genres.str.contains(genre)    # Adds a new column to df for each genre.\n",
    "\n",
    "df.shape\n",
    "# There are now 20 more columns in the dataframe."
   ]
  },
  {
   "cell_type": "code",
   "execution_count": 94,
   "id": "d9507cd1-642e-4748-8983-8a71fe3cee2c",
   "metadata": {},
   "outputs": [],
   "source": [
    "# Create new 'aggregate' dataframe where each row contains a distinct genre.\n",
    "genre_df = pd.DataFrame()\n",
    "genre_df['genres'] = distinct_genres"
   ]
  },
  {
   "cell_type": "code",
   "execution_count": 96,
   "id": "db4f4c2e-a9c4-400b-ac00-d87d3d83589c",
   "metadata": {},
   "outputs": [],
   "source": [
    "# Create count of distinct genres column.\n",
    "\n",
    "# This function and the following functions aggregates the data in df for each genre.\n",
    "def count_genre(genre):\n",
    "    return df.genres.str.contains(genre).sum()            \n",
    "\n",
    "genre_df['count'] = genre_df['genres'].apply(count_genre)         # Apply the function to the new genre_df dataframe."
   ]
  },
  {
   "cell_type": "code",
   "execution_count": 98,
   "id": "41da1922-2610-474c-ac66-49d1aeaf748f",
   "metadata": {},
   "outputs": [],
   "source": [
    "# Create average budget column.\n",
    "def average_budget(genre):\n",
    "    return df.groupby(genre)[['budget']].mean().reset_index()['budget'][1]\n",
    "    # Index position 0 of the groupby is genre = False.\n",
    "    # Index position 1 of the groupby is genre = True ----- So we only want the return the value of the mean budget in the second row (index position 1).\n",
    "\n",
    "genre_df['avg_budget'] = genre_df['genres'].apply(average_budget)"
   ]
  },
  {
   "cell_type": "code",
   "execution_count": 100,
   "id": "34d4e9fe-a2c7-48f8-bb4f-0258e8d78456",
   "metadata": {},
   "outputs": [],
   "source": [
    "# Create average popularity column.\n",
    "def average_popularity(genre):\n",
    "    return df.groupby(genre)[['popularity']].mean().reset_index()['popularity'][1]\n",
    "\n",
    "genre_df['avg_popularity'] = genre_df['genres'].apply(average_popularity)"
   ]
  },
  {
   "cell_type": "code",
   "execution_count": 102,
   "id": "d4e28c67-c30e-430e-9080-1e6a79ee5a74",
   "metadata": {},
   "outputs": [],
   "source": [
    "# Create average revenue column.\n",
    "def average_revenue(genre):\n",
    "    return df.groupby(genre)[['revenue']].mean().reset_index()['revenue'][1]\n",
    "\n",
    "genre_df['avg_revenue'] = genre_df['genres'].apply(average_revenue)"
   ]
  },
  {
   "cell_type": "code",
   "execution_count": 104,
   "id": "2114ba58-3bdc-4144-95fc-946ac0adb1d1",
   "metadata": {},
   "outputs": [],
   "source": [
    "# Create average runtime column.\n",
    "def average_runtime(genre):\n",
    "    return df.groupby(genre)[['runtime']].mean().reset_index()['runtime'][1]\n",
    "\n",
    "genre_df['avg_runtime'] = genre_df['genres'].apply(average_runtime)"
   ]
  },
  {
   "cell_type": "code",
   "execution_count": 106,
   "id": "2886cc50-a666-463d-8186-fb695378fea3",
   "metadata": {},
   "outputs": [],
   "source": [
    "# Create vote average column.\n",
    "def average_vote_average(genre):\n",
    "    return df.groupby(genre)[['vote_average']].mean().reset_index()['vote_average'][1]\n",
    "\n",
    "genre_df['vote_average'] = genre_df['genres'].apply(average_vote_average)"
   ]
  },
  {
   "cell_type": "code",
   "execution_count": 108,
   "id": "561aea24-d366-4048-a4ee-126f81ea7ae4",
   "metadata": {},
   "outputs": [],
   "source": [
    "# Create average vote count column.\n",
    "def average_vote_count(genre):\n",
    "    return df.groupby(genre)[['vote_count']].mean().reset_index()['vote_count'][1]\n",
    "\n",
    "genre_df['avg_vote_count'] = genre_df['genres'].apply(average_vote_count)"
   ]
  },
  {
   "cell_type": "code",
   "execution_count": 110,
   "id": "321f21d8-8a82-4279-92ff-a9eee9bf3799",
   "metadata": {},
   "outputs": [],
   "source": [
    "# Create average profit column.\n",
    "\n",
    "# We don't need to use df for this column.\n",
    "genre_df['avg_profit'] = genre_df.avg_revenue - genre_df.avg_budget "
   ]
  },
  {
   "cell_type": "code",
   "execution_count": 112,
   "id": "1780fabd-054d-40ab-a281-49969640e5bb",
   "metadata": {},
   "outputs": [],
   "source": [
    "# Create profit percentage column.\n",
    "\n",
    "# We don't need to use df for this column.\n",
    "genre_df['percentage_profit'] = genre_df.avg_profit/genre_df.avg_budget *100"
   ]
  },
  {
   "cell_type": "markdown",
   "id": "7f8e8207-e486-4e5b-a817-ca3f03d596bb",
   "metadata": {},
   "source": [
    "## Genre Df insights\n",
    "* I created the following visualisations from my new dataframe:\n",
    "    * __Average Vote by Genre,__\n",
    "    * __Profit by Genre.__"
   ]
  },
  {
   "cell_type": "code",
   "execution_count": 115,
   "id": "4cdee021-b080-4ca9-a60b-b2389bdc1147",
   "metadata": {},
   "outputs": [
    {
     "data": {
      "text/html": [
       "<div>\n",
       "<style scoped>\n",
       "    .dataframe tbody tr th:only-of-type {\n",
       "        vertical-align: middle;\n",
       "    }\n",
       "\n",
       "    .dataframe tbody tr th {\n",
       "        vertical-align: top;\n",
       "    }\n",
       "\n",
       "    .dataframe thead th {\n",
       "        text-align: right;\n",
       "    }\n",
       "</style>\n",
       "<table border=\"1\" class=\"dataframe\">\n",
       "  <thead>\n",
       "    <tr style=\"text-align: right;\">\n",
       "      <th></th>\n",
       "      <th>genres</th>\n",
       "      <th>count</th>\n",
       "      <th>avg_budget</th>\n",
       "      <th>avg_popularity</th>\n",
       "      <th>avg_revenue</th>\n",
       "      <th>avg_runtime</th>\n",
       "      <th>vote_average</th>\n",
       "      <th>avg_vote_count</th>\n",
       "      <th>avg_profit</th>\n",
       "      <th>percentage_profit</th>\n",
       "    </tr>\n",
       "  </thead>\n",
       "  <tbody>\n",
       "    <tr>\n",
       "      <th>0</th>\n",
       "      <td>Action</td>\n",
       "      <td>1154</td>\n",
       "      <td>5.151075e+07</td>\n",
       "      <td>30.940382</td>\n",
       "      <td>1.412131e+08</td>\n",
       "      <td>110.544194</td>\n",
       "      <td>5.989515</td>\n",
       "      <td>1135.814558</td>\n",
       "      <td>8.970235e+07</td>\n",
       "      <td>174.142960</td>\n",
       "    </tr>\n",
       "    <tr>\n",
       "      <th>1</th>\n",
       "      <td>Adventure</td>\n",
       "      <td>790</td>\n",
       "      <td>6.632686e+07</td>\n",
       "      <td>39.268042</td>\n",
       "      <td>2.086602e+08</td>\n",
       "      <td>111.332911</td>\n",
       "      <td>6.156962</td>\n",
       "      <td>1430.669620</td>\n",
       "      <td>1.423333e+08</td>\n",
       "      <td>214.593817</td>\n",
       "    </tr>\n",
       "    <tr>\n",
       "      <th>2</th>\n",
       "      <td>Fantasy</td>\n",
       "      <td>424</td>\n",
       "      <td>6.356061e+07</td>\n",
       "      <td>36.387043</td>\n",
       "      <td>1.933542e+08</td>\n",
       "      <td>107.278302</td>\n",
       "      <td>6.096698</td>\n",
       "      <td>1323.983491</td>\n",
       "      <td>1.297936e+08</td>\n",
       "      <td>204.204538</td>\n",
       "    </tr>\n",
       "    <tr>\n",
       "      <th>3</th>\n",
       "      <td>Science Fiction</td>\n",
       "      <td>535</td>\n",
       "      <td>5.186555e+07</td>\n",
       "      <td>36.451806</td>\n",
       "      <td>1.524565e+08</td>\n",
       "      <td>107.478505</td>\n",
       "      <td>6.005607</td>\n",
       "      <td>1425.585047</td>\n",
       "      <td>1.005910e+08</td>\n",
       "      <td>193.945619</td>\n",
       "    </tr>\n",
       "    <tr>\n",
       "      <th>4</th>\n",
       "      <td>Crime</td>\n",
       "      <td>696</td>\n",
       "      <td>2.784981e+07</td>\n",
       "      <td>22.853274</td>\n",
       "      <td>6.615066e+07</td>\n",
       "      <td>109.666667</td>\n",
       "      <td>6.274138</td>\n",
       "      <td>752.599138</td>\n",
       "      <td>3.830085e+07</td>\n",
       "      <td>137.526455</td>\n",
       "    </tr>\n",
       "    <tr>\n",
       "      <th>5</th>\n",
       "      <td>Drama</td>\n",
       "      <td>2297</td>\n",
       "      <td>2.067832e+07</td>\n",
       "      <td>17.764853</td>\n",
       "      <td>5.211623e+07</td>\n",
       "      <td>113.265564</td>\n",
       "      <td>6.388594</td>\n",
       "      <td>532.280801</td>\n",
       "      <td>3.143791e+07</td>\n",
       "      <td>152.033141</td>\n",
       "    </tr>\n",
       "    <tr>\n",
       "      <th>6</th>\n",
       "      <td>Thriller</td>\n",
       "      <td>1274</td>\n",
       "      <td>3.196821e+07</td>\n",
       "      <td>24.460077</td>\n",
       "      <td>8.104429e+07</td>\n",
       "      <td>107.544741</td>\n",
       "      <td>6.010989</td>\n",
       "      <td>772.845369</td>\n",
       "      <td>4.907608e+07</td>\n",
       "      <td>153.515285</td>\n",
       "    </tr>\n",
       "    <tr>\n",
       "      <th>7</th>\n",
       "      <td>Animation</td>\n",
       "      <td>234</td>\n",
       "      <td>6.646590e+07</td>\n",
       "      <td>38.813439</td>\n",
       "      <td>2.256930e+08</td>\n",
       "      <td>89.923077</td>\n",
       "      <td>6.341453</td>\n",
       "      <td>1246.170940</td>\n",
       "      <td>1.592271e+08</td>\n",
       "      <td>239.562119</td>\n",
       "    </tr>\n",
       "    <tr>\n",
       "      <th>8</th>\n",
       "      <td>Family</td>\n",
       "      <td>513</td>\n",
       "      <td>5.071951e+07</td>\n",
       "      <td>27.832849</td>\n",
       "      <td>1.623455e+08</td>\n",
       "      <td>97.298246</td>\n",
       "      <td>6.029630</td>\n",
       "      <td>902.290448</td>\n",
       "      <td>1.116260e+08</td>\n",
       "      <td>220.084891</td>\n",
       "    </tr>\n",
       "    <tr>\n",
       "      <th>9</th>\n",
       "      <td>Western</td>\n",
       "      <td>82</td>\n",
       "      <td>2.707870e+07</td>\n",
       "      <td>18.236279</td>\n",
       "      <td>4.624596e+07</td>\n",
       "      <td>117.353659</td>\n",
       "      <td>6.178049</td>\n",
       "      <td>607.853659</td>\n",
       "      <td>1.916726e+07</td>\n",
       "      <td>70.783533</td>\n",
       "    </tr>\n",
       "    <tr>\n",
       "      <th>10</th>\n",
       "      <td>Comedy</td>\n",
       "      <td>1722</td>\n",
       "      <td>2.531342e+07</td>\n",
       "      <td>18.221001</td>\n",
       "      <td>7.128950e+07</td>\n",
       "      <td>100.030197</td>\n",
       "      <td>5.945587</td>\n",
       "      <td>525.181185</td>\n",
       "      <td>4.597608e+07</td>\n",
       "      <td>181.627275</td>\n",
       "    </tr>\n",
       "    <tr>\n",
       "      <th>11</th>\n",
       "      <td>Romance</td>\n",
       "      <td>894</td>\n",
       "      <td>2.031136e+07</td>\n",
       "      <td>15.962426</td>\n",
       "      <td>6.000239e+07</td>\n",
       "      <td>109.379195</td>\n",
       "      <td>6.207718</td>\n",
       "      <td>454.504474</td>\n",
       "      <td>3.969103e+07</td>\n",
       "      <td>195.412935</td>\n",
       "    </tr>\n",
       "    <tr>\n",
       "      <th>12</th>\n",
       "      <td>Horror</td>\n",
       "      <td>519</td>\n",
       "      <td>1.457403e+07</td>\n",
       "      <td>18.295915</td>\n",
       "      <td>4.354508e+07</td>\n",
       "      <td>95.949904</td>\n",
       "      <td>5.626590</td>\n",
       "      <td>495.211946</td>\n",
       "      <td>2.897105e+07</td>\n",
       "      <td>198.785401</td>\n",
       "    </tr>\n",
       "    <tr>\n",
       "      <th>13</th>\n",
       "      <td>Mystery</td>\n",
       "      <td>348</td>\n",
       "      <td>3.074449e+07</td>\n",
       "      <td>24.586827</td>\n",
       "      <td>7.830093e+07</td>\n",
       "      <td>109.591954</td>\n",
       "      <td>6.183908</td>\n",
       "      <td>799.146552</td>\n",
       "      <td>4.755644e+07</td>\n",
       "      <td>154.682824</td>\n",
       "    </tr>\n",
       "    <tr>\n",
       "      <th>14</th>\n",
       "      <td>History</td>\n",
       "      <td>197</td>\n",
       "      <td>2.990347e+07</td>\n",
       "      <td>17.444839</td>\n",
       "      <td>5.752356e+07</td>\n",
       "      <td>135.989848</td>\n",
       "      <td>6.719797</td>\n",
       "      <td>486.791878</td>\n",
       "      <td>2.762010e+07</td>\n",
       "      <td>92.364192</td>\n",
       "    </tr>\n",
       "    <tr>\n",
       "      <th>15</th>\n",
       "      <td>War</td>\n",
       "      <td>144</td>\n",
       "      <td>3.528246e+07</td>\n",
       "      <td>23.777289</td>\n",
       "      <td>8.415587e+07</td>\n",
       "      <td>131.833333</td>\n",
       "      <td>6.713889</td>\n",
       "      <td>756.645833</td>\n",
       "      <td>4.887342e+07</td>\n",
       "      <td>138.520444</td>\n",
       "    </tr>\n",
       "    <tr>\n",
       "      <th>16</th>\n",
       "      <td>Music</td>\n",
       "      <td>185</td>\n",
       "      <td>1.590795e+07</td>\n",
       "      <td>13.101512</td>\n",
       "      <td>4.845595e+07</td>\n",
       "      <td>109.924324</td>\n",
       "      <td>6.355676</td>\n",
       "      <td>300.497297</td>\n",
       "      <td>3.254800e+07</td>\n",
       "      <td>204.602160</td>\n",
       "    </tr>\n",
       "    <tr>\n",
       "      <th>17</th>\n",
       "      <td>Documentary</td>\n",
       "      <td>110</td>\n",
       "      <td>2.653288e+06</td>\n",
       "      <td>3.945724</td>\n",
       "      <td>9.838888e+06</td>\n",
       "      <td>92.963636</td>\n",
       "      <td>6.238182</td>\n",
       "      <td>70.590909</td>\n",
       "      <td>7.185600e+06</td>\n",
       "      <td>270.818640</td>\n",
       "    </tr>\n",
       "    <tr>\n",
       "      <th>18</th>\n",
       "      <td>Foreign</td>\n",
       "      <td>34</td>\n",
       "      <td>6.580884e+05</td>\n",
       "      <td>0.686787</td>\n",
       "      <td>3.646515e+05</td>\n",
       "      <td>110.617647</td>\n",
       "      <td>6.352941</td>\n",
       "      <td>10.764706</td>\n",
       "      <td>-2.934369e+05</td>\n",
       "      <td>-44.589287</td>\n",
       "    </tr>\n",
       "    <tr>\n",
       "      <th>19</th>\n",
       "      <td>TV Movie</td>\n",
       "      <td>8</td>\n",
       "      <td>1.150000e+06</td>\n",
       "      <td>6.389415</td>\n",
       "      <td>0.000000e+00</td>\n",
       "      <td>85.625000</td>\n",
       "      <td>5.662500</td>\n",
       "      <td>209.750000</td>\n",
       "      <td>-1.150000e+06</td>\n",
       "      <td>-100.000000</td>\n",
       "    </tr>\n",
       "  </tbody>\n",
       "</table>\n",
       "</div>"
      ],
      "text/plain": [
       "             genres  count    avg_budget  avg_popularity   avg_revenue  \\\n",
       "0            Action   1154  5.151075e+07       30.940382  1.412131e+08   \n",
       "1         Adventure    790  6.632686e+07       39.268042  2.086602e+08   \n",
       "2           Fantasy    424  6.356061e+07       36.387043  1.933542e+08   \n",
       "3   Science Fiction    535  5.186555e+07       36.451806  1.524565e+08   \n",
       "4             Crime    696  2.784981e+07       22.853274  6.615066e+07   \n",
       "5             Drama   2297  2.067832e+07       17.764853  5.211623e+07   \n",
       "6          Thriller   1274  3.196821e+07       24.460077  8.104429e+07   \n",
       "7         Animation    234  6.646590e+07       38.813439  2.256930e+08   \n",
       "8            Family    513  5.071951e+07       27.832849  1.623455e+08   \n",
       "9           Western     82  2.707870e+07       18.236279  4.624596e+07   \n",
       "10           Comedy   1722  2.531342e+07       18.221001  7.128950e+07   \n",
       "11          Romance    894  2.031136e+07       15.962426  6.000239e+07   \n",
       "12           Horror    519  1.457403e+07       18.295915  4.354508e+07   \n",
       "13          Mystery    348  3.074449e+07       24.586827  7.830093e+07   \n",
       "14          History    197  2.990347e+07       17.444839  5.752356e+07   \n",
       "15              War    144  3.528246e+07       23.777289  8.415587e+07   \n",
       "16            Music    185  1.590795e+07       13.101512  4.845595e+07   \n",
       "17      Documentary    110  2.653288e+06        3.945724  9.838888e+06   \n",
       "18          Foreign     34  6.580884e+05        0.686787  3.646515e+05   \n",
       "19         TV Movie      8  1.150000e+06        6.389415  0.000000e+00   \n",
       "\n",
       "    avg_runtime  vote_average  avg_vote_count    avg_profit  percentage_profit  \n",
       "0    110.544194      5.989515     1135.814558  8.970235e+07         174.142960  \n",
       "1    111.332911      6.156962     1430.669620  1.423333e+08         214.593817  \n",
       "2    107.278302      6.096698     1323.983491  1.297936e+08         204.204538  \n",
       "3    107.478505      6.005607     1425.585047  1.005910e+08         193.945619  \n",
       "4    109.666667      6.274138      752.599138  3.830085e+07         137.526455  \n",
       "5    113.265564      6.388594      532.280801  3.143791e+07         152.033141  \n",
       "6    107.544741      6.010989      772.845369  4.907608e+07         153.515285  \n",
       "7     89.923077      6.341453     1246.170940  1.592271e+08         239.562119  \n",
       "8     97.298246      6.029630      902.290448  1.116260e+08         220.084891  \n",
       "9    117.353659      6.178049      607.853659  1.916726e+07          70.783533  \n",
       "10   100.030197      5.945587      525.181185  4.597608e+07         181.627275  \n",
       "11   109.379195      6.207718      454.504474  3.969103e+07         195.412935  \n",
       "12    95.949904      5.626590      495.211946  2.897105e+07         198.785401  \n",
       "13   109.591954      6.183908      799.146552  4.755644e+07         154.682824  \n",
       "14   135.989848      6.719797      486.791878  2.762010e+07          92.364192  \n",
       "15   131.833333      6.713889      756.645833  4.887342e+07         138.520444  \n",
       "16   109.924324      6.355676      300.497297  3.254800e+07         204.602160  \n",
       "17    92.963636      6.238182       70.590909  7.185600e+06         270.818640  \n",
       "18   110.617647      6.352941       10.764706 -2.934369e+05         -44.589287  \n",
       "19    85.625000      5.662500      209.750000 -1.150000e+06        -100.000000  "
      ]
     },
     "execution_count": 115,
     "metadata": {},
     "output_type": "execute_result"
    }
   ],
   "source": [
    "# The new dataframe I created.\n",
    "genre_df"
   ]
  },
  {
   "cell_type": "markdown",
   "id": "9f97a32c-5416-40dc-aac1-ef9d559c449b",
   "metadata": {},
   "source": [
    "### Average vote by genre"
   ]
  },
  {
   "cell_type": "code",
   "execution_count": 118,
   "id": "48c29544-7370-4466-bc1b-aa54e475b839",
   "metadata": {
    "jupyter": {
     "source_hidden": true
    }
   },
   "outputs": [
    {
     "data": {
      "image/png": "[encoded data removed]",
      "text/plain": [
       "<Figure size 1000x500 with 1 Axes>"
      ]
     },
     "metadata": {},
     "output_type": "display_data"
    }
   ],
   "source": [
    "# Create average vote by genre graph.\n",
    " \n",
    "plt.figure(figsize = (10,5))             # Graph dimensions.\n",
    "\n",
    "sns.barplot(data = genre_df.sort_values(by = 'vote_average', ascending = False),      # Create the graph (using data sorted by vote_average to order the graph).\n",
    "            x = 'genres',\n",
    "            y = 'vote_average',\n",
    "            palette = 'viridis',\n",
    "            hue = 'vote_average')\n",
    "\n",
    "plt.ylim(5,7)          # Limit the y axis to be within the range of 5-7. Shows the difference between genres better.\n",
    "\n",
    "plt.xticks(rotation = 45,                       # Rotate the x axis labels.\n",
    "           horizontalalignment = 'right',\n",
    "           fontweight = 'light',\n",
    "           fontsize = 'small',\n",
    "          )\n",
    "\n",
    "plt.title('Average vote (out of 10) by genre of movie'.title())       # Add a graph title.\n",
    "plt.ylabel('Average vote (Out of 10)')       # y axis label.\n",
    "plt.xlabel('Genre')        # x axis label.\n",
    "\n",
    "plt.show()"
   ]
  },
  {
   "cell_type": "markdown",
   "id": "6e275253-7410-49e6-b797-8786539551d4",
   "metadata": {},
   "source": [
    "#### Insights\n",
    "- History and War films have the highest average rating.\n",
    "- TV Movie and Horror films have the lowest average rating."
   ]
  },
  {
   "cell_type": "markdown",
   "id": "50720033-8b4e-49b4-ad4a-ddc6679225fa",
   "metadata": {},
   "source": [
    "### Profit by genre"
   ]
  },
  {
   "cell_type": "code",
   "execution_count": 120,
   "id": "90ff2987-191b-410d-9fe9-89312fd7324a",
   "metadata": {
    "jupyter": {
     "source_hidden": true
    }
   },
   "outputs": [
    {
     "data": {
      "image/png": "[encoded data removed]",
      "text/plain": [
       "<Figure size 1000x500 with 1 Axes>"
      ]
     },
     "metadata": {},
     "output_type": "display_data"
    }
   ],
   "source": [
    "# Create average profit by genre graph.\n",
    "\n",
    "plt.figure(figsize = (10,5))    # Graph dimensions.\n",
    "\n",
    "sns.barplot(data = genre_df.sort_values(by = 'avg_profit', ascending = False),      # Create the graph (using data sorted by avg_profit to order the graph).\n",
    "            x = 'genres',\n",
    "            y = 'avg_profit',\n",
    "            palette = 'viridis',\n",
    "            hue = 'avg_profit') \n",
    "\n",
    "plt.ticklabel_format(axis='y', style='plain')     # Get rid of standard form numbers in the y axis (replaced by the full numbers).\n",
    "\n",
    "plt.xticks(rotation = 45,                         # Rotate the x axis labels.\n",
    "           horizontalalignment = 'right',\n",
    "           fontweight = 'light',\n",
    "           fontsize = 'small',\n",
    "          )\n",
    "\n",
    "plt.title('Average profit by genre of movie'.title())     # Add a graph title.\n",
    "plt.ylabel('Average profit')            # y axis label.\n",
    "plt.xlabel('Genre')                   # x axis label.\n",
    "\n",
    "plt.show()"
   ]
  },
  {
   "cell_type": "code",
   "execution_count": 122,
   "id": "7eaf03db-381a-47b7-8dfc-7fb4d83da366",
   "metadata": {
    "jupyter": {
     "source_hidden": true
    }
   },
   "outputs": [
    {
     "data": {
      "image/png": "[encoded data removed]",
      "text/plain": [
       "<Figure size 1000x500 with 1 Axes>"
      ]
     },
     "metadata": {},
     "output_type": "display_data"
    }
   ],
   "source": [
    "# Create percentage profit by genre graph.\n",
    "\n",
    "plt.figure(figsize = (10,5))     # Graph dimensions.\n",
    "\n",
    "sns.barplot(data = genre_df.sort_values(by = 'percentage_profit', ascending = False),     # Create the graph (using data sorted by percentage_profit to order the graph).\n",
    "            x = 'genres',\n",
    "            y = 'percentage_profit',\n",
    "            palette = 'viridis',\n",
    "            hue = 'percentage_profit')\n",
    "\n",
    "plt.xticks(rotation = 45,                        # Rotate the x axis labels.\n",
    "           horizontalalignment = 'right',\n",
    "           fontweight = 'light',\n",
    "           fontsize = 'small',\n",
    "          )\n",
    "\n",
    "plt.title('Percentage Profit by genre of movie'.title())     # Add a graph title.\n",
    "plt.ylabel('Percentage Profit (%)')    # y axis label.\n",
    "plt.xlabel('Genre')     # x axis label.\n",
    "\n",
    "plt.show()"
   ]
  },
  {
   "cell_type": "markdown",
   "id": "edc7a314-f94a-4059-b07e-b38d98790bb8",
   "metadata": {},
   "source": [
    "#### Insights\n",
    "* Documentaries have the best profit percentage, but not the most profit on average.\n",
    "    * This shows that documentaries aren't a big genre but can be great profit-makers for small production companies.\n",
    "* Animation and family films generally do well.\n",
    "* TV movies have made 100% loss."
   ]
  },
  {
   "cell_type": "markdown",
   "id": "e44885ab-5ed6-4bb6-a7a0-3a2af6bac0f5",
   "metadata": {},
   "source": [
    "## Comparing Profitable movies to Loss-making movies\n",
    "* Documentary is the best genre for profit percentage. So we will see the top 3 documentaries by profit percentage.\n",
    "* TV movies have made the most losses. So we will look at the TV movies with the lowest profit percentage."
   ]
  },
  {
   "cell_type": "code",
   "execution_count": 124,
   "id": "288d0a1d-01d0-4fc2-aee4-987079595bf8",
   "metadata": {},
   "outputs": [
    {
     "data": {
      "text/html": [
       "<div>\n",
       "<style scoped>\n",
       "    .dataframe tbody tr th:only-of-type {\n",
       "        vertical-align: middle;\n",
       "    }\n",
       "\n",
       "    .dataframe tbody tr th {\n",
       "        vertical-align: top;\n",
       "    }\n",
       "\n",
       "    .dataframe thead th {\n",
       "        text-align: right;\n",
       "    }\n",
       "</style>\n",
       "<table border=\"1\" class=\"dataframe\">\n",
       "  <thead>\n",
       "    <tr style=\"text-align: right;\">\n",
       "      <th></th>\n",
       "      <th>title</th>\n",
       "      <th>budget</th>\n",
       "      <th>revenue</th>\n",
       "      <th>profit</th>\n",
       "      <th>profit_percentage</th>\n",
       "    </tr>\n",
       "  </thead>\n",
       "  <tbody>\n",
       "    <tr>\n",
       "      <th>4582</th>\n",
       "      <td>Tarnation</td>\n",
       "      <td>218</td>\n",
       "      <td>1162014</td>\n",
       "      <td>1161796</td>\n",
       "      <td>532933.944954</td>\n",
       "    </tr>\n",
       "    <tr>\n",
       "      <th>4742</th>\n",
       "      <td>Super Size Me</td>\n",
       "      <td>65000</td>\n",
       "      <td>28575078</td>\n",
       "      <td>28510078</td>\n",
       "      <td>43861.658462</td>\n",
       "    </tr>\n",
       "    <tr>\n",
       "      <th>4497</th>\n",
       "      <td>Woodstock</td>\n",
       "      <td>600000</td>\n",
       "      <td>34505110</td>\n",
       "      <td>33905110</td>\n",
       "      <td>5650.851667</td>\n",
       "    </tr>\n",
       "  </tbody>\n",
       "</table>\n",
       "</div>"
      ],
      "text/plain": [
       "              title  budget   revenue    profit  profit_percentage\n",
       "4582      Tarnation     218   1162014   1161796      532933.944954\n",
       "4742  Super Size Me   65000  28575078  28510078       43861.658462\n",
       "4497      Woodstock  600000  34505110  33905110        5650.851667"
      ]
     },
     "execution_count": 124,
     "metadata": {},
     "output_type": "execute_result"
    }
   ],
   "source": [
    "# Tarnation is the documentary with the largest profit percentage (532933% profit).\n",
    "pd.set_option(\"display.max_columns\", None)\n",
    "df[(df.genres.str.contains('Documentary')) & (df.budget > 0)][['title', 'budget', 'revenue', 'profit', 'profit_percentage']]\\\n",
    "    .sort_values(by = 'profit_percentage', ascending = False).head(3)"
   ]
  },
  {
   "cell_type": "code",
   "execution_count": 126,
   "id": "720717df-4b63-4668-b9a2-b0539e958341",
   "metadata": {},
   "outputs": [
    {
     "data": {
      "text/html": [
       "<div>\n",
       "<style scoped>\n",
       "    .dataframe tbody tr th:only-of-type {\n",
       "        vertical-align: middle;\n",
       "    }\n",
       "\n",
       "    .dataframe tbody tr th {\n",
       "        vertical-align: top;\n",
       "    }\n",
       "\n",
       "    .dataframe thead th {\n",
       "        text-align: right;\n",
       "    }\n",
       "</style>\n",
       "<table border=\"1\" class=\"dataframe\">\n",
       "  <thead>\n",
       "    <tr style=\"text-align: right;\">\n",
       "      <th></th>\n",
       "      <th>title</th>\n",
       "      <th>budget</th>\n",
       "      <th>revenue</th>\n",
       "      <th>profit</th>\n",
       "      <th>profit_percentage</th>\n",
       "    </tr>\n",
       "  </thead>\n",
       "  <tbody>\n",
       "    <tr>\n",
       "      <th>3731</th>\n",
       "      <td>High School Musical</td>\n",
       "      <td>4200000</td>\n",
       "      <td>0</td>\n",
       "      <td>-4200000</td>\n",
       "      <td>-100.0</td>\n",
       "    </tr>\n",
       "    <tr>\n",
       "      <th>3809</th>\n",
       "      <td>How to Fall in Love</td>\n",
       "      <td>4000000</td>\n",
       "      <td>0</td>\n",
       "      <td>-4000000</td>\n",
       "      <td>-100.0</td>\n",
       "    </tr>\n",
       "    <tr>\n",
       "      <th>3843</th>\n",
       "      <td>Sharknado</td>\n",
       "      <td>1000000</td>\n",
       "      <td>0</td>\n",
       "      <td>-1000000</td>\n",
       "      <td>-100.0</td>\n",
       "    </tr>\n",
       "  </tbody>\n",
       "</table>\n",
       "</div>"
      ],
      "text/plain": [
       "                    title   budget  revenue   profit  profit_percentage\n",
       "3731  High School Musical  4200000        0 -4200000             -100.0\n",
       "3809  How to Fall in Love  4000000        0 -4000000             -100.0\n",
       "3843            Sharknado  1000000        0 -1000000             -100.0"
      ]
     },
     "execution_count": 126,
     "metadata": {},
     "output_type": "execute_result"
    }
   ],
   "source": [
    "# The only TV movie genre movies with a budget greater than zero. They have all made 0 revenue.\n",
    "df[(df.genres.str.contains('TV Movie')) & (df.budget > 0)][['title','budget', 'revenue', 'profit', 'profit_percentage']]"
   ]
  },
  {
   "cell_type": "code",
   "execution_count": 128,
   "id": "cfa0c09e-3793-45aa-9cd4-611aac75a130",
   "metadata": {},
   "outputs": [
    {
     "data": {
      "text/plain": [
       "(8, 47)"
      ]
     },
     "execution_count": 128,
     "metadata": {},
     "output_type": "execute_result"
    }
   ],
   "source": [
    "# There are only 8 TV movies in total (and only 3 with a budget > 0).\n",
    "df[(df.genres.str.contains('TV Movie'))].shape"
   ]
  },
  {
   "cell_type": "markdown",
   "id": "e2529124-032b-4c97-8bef-8567aadfbd6f",
   "metadata": {},
   "source": [
    "##### Notes:\n",
    "* All TV movies have -100% profit percentage.\n",
    "* This is due to all TV movies showing as making 0 revenue.\n",
    "* This cannot realistically be the case, particularly for movies like High School Musical with a budget of 4.2 million.\n",
    "* We will need to find out what the revenue column is based on."
   ]
  },
  {
   "cell_type": "markdown",
   "id": "20a7c923-00a3-4aaa-8ec8-99fb40f01a74",
   "metadata": {},
   "source": [
    "## Conclusions\n",
    "\n",
    "> I have uncovered many insights when exploring this movie data and I will now summarise the main points to take away from this project.\n",
    ">\n",
    "> * There are 36 movies in the data that have a runtime of 0. It is hard to believe this to be correct and we need to find out why this is the case.\n",
    "> * Amount of revenue has a very strong correlation with amount of profit. However, amount of revenue has a very weak correlation with profit as a percentage of the budget. With more time we could try and find factors that have a strong correlation with the profit percentage.\n",
    "> * Animated movies, adventure movies, and family movies seem to be the best genres for creating profit. Documentaries don't create much profit but have the best profit percentage.\n",
    "> * The data shows that TV movies make 100% loss. By looking at the specific movies in this genre, I have discovered that the data shows that these movies have no revenue. These movies cost millions to make and had to have made some money, so we need to find out what the revenue column values are based on."
   ]
  }
 ],
 "metadata": {
  "kernelspec": {
   "display_name": "Python 3 (ipykernel)",
   "language": "python",
   "name": "python3"
  },
  "language_info": {
   "codemirror_mode": {
    "name": "ipython",
    "version": 3
   },
   "file_extension": ".py",
   "mimetype": "text/x-python",
   "name": "python",
   "nbconvert_exporter": "python",
   "pygments_lexer": "ipython3",
   "version": "3.12.7"
  }
 },
 "nbformat": 4,
 "nbformat_minor": 5
}
